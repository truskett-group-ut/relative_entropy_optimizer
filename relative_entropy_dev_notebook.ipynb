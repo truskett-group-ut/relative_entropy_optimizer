{
 "cells": [
  {
   "cell_type": "markdown",
   "metadata": {},
   "source": [
    "# Dev notebook for relative entropy components"
   ]
  },
  {
   "cell_type": "markdown",
   "metadata": {},
   "source": [
    "### Class for performing the relative entropy updates"
   ]
  },
  {
   "cell_type": "code",
   "execution_count": 221,
   "metadata": {
    "collapsed": true
   },
   "outputs": [],
   "source": [
    "from relative_entropy_update import RelativeEntropyUpdate"
   ]
  },
  {
   "cell_type": "code",
   "execution_count": null,
   "metadata": {
    "collapsed": true
   },
   "outputs": [],
   "source": []
  },
  {
   "cell_type": "code",
   "execution_count": 227,
   "metadata": {
    "collapsed": false
   },
   "outputs": [
    {
     "data": {
      "text/plain": [
       "<class __main__.Depletion at 0x0000000005930C48>"
      ]
     },
     "execution_count": 227,
     "metadata": {},
     "output_type": "execute_result"
    }
   ],
   "source": [
    "Depletion"
   ]
  },
  {
   "cell_type": "markdown",
   "metadata": {},
   "source": [
    "**Here is an demo contrived potential**"
   ]
  },
  {
   "cell_type": "code",
   "execution_count": 24,
   "metadata": {
    "collapsed": true
   },
   "outputs": [],
   "source": [
    "depletion = Depletion()"
   ]
  },
  {
   "cell_type": "code",
   "execution_count": 54,
   "metadata": {
    "collapsed": false
   },
   "outputs": [],
   "source": [
    "depletion.SetParamsState({'rho_p': True, 'd_p': True, 'd': False, 'w': False})"
   ]
  },
  {
   "cell_type": "code",
   "execution_count": 55,
   "metadata": {
    "collapsed": true
   },
   "outputs": [],
   "source": [
    "params_val = {'rho_p': 6.0, 'd_p': 0.6, 'd': 1.0, 'w': 50.0}"
   ]
  },
  {
   "cell_type": "code",
   "execution_count": 56,
   "metadata": {
    "collapsed": true
   },
   "outputs": [],
   "source": [
    "relative_entropy_update = RelativeEntropyUpdate()"
   ]
  },
  {
   "cell_type": "code",
   "execution_count": 57,
   "metadata": {
    "collapsed": false
   },
   "outputs": [],
   "source": [
    "relative_entropy_update.LoadPotential(depletion, params_val)"
   ]
  },
  {
   "cell_type": "code",
   "execution_count": 58,
   "metadata": {
    "collapsed": false
   },
   "outputs": [
    {
     "data": {
      "text/plain": [
       "{'d': False, 'd_p': True, 'rho_p': True, 'w': False}"
      ]
     },
     "execution_count": 58,
     "metadata": {},
     "output_type": "execute_result"
    }
   ],
   "source": [
    "relative_entropy_update.pot.params_state"
   ]
  },
  {
   "cell_type": "code",
   "execution_count": 59,
   "metadata": {
    "collapsed": true
   },
   "outputs": [],
   "source": [
    "relative_entropy_update.LoadRadialDistFuncs('./test_data/rdf_cluster.xvg', './test_data/rdf_crystal.xvg', spacing=0.02)"
   ]
  },
  {
   "cell_type": "code",
   "execution_count": 60,
   "metadata": {
    "collapsed": false
   },
   "outputs": [
    {
     "data": {
      "text/plain": [
       "{'d': 1.0, 'd_p': -4.1961038652061804, 'rho_p': 5.8283819617851078, 'w': 50.0}"
      ]
     },
     "execution_count": 60,
     "metadata": {},
     "output_type": "execute_result"
    }
   ],
   "source": [
    "relative_entropy_update.CalcUpdate(learning_rate=0.1)"
   ]
  },
  {
   "cell_type": "code",
   "execution_count": 61,
   "metadata": {
    "collapsed": false
   },
   "outputs": [],
   "source": [
    "_dd_ps = relative_entropy_update.GetDerivative('d_p')\n",
    "_dd_rho_ps = relative_entropy_update.GetDerivative('rho_p')\n",
    "_rs = relative_entropy_update.r"
   ]
  },
  {
   "cell_type": "code",
   "execution_count": null,
   "metadata": {
    "collapsed": true
   },
   "outputs": [],
   "source": []
  },
  {
   "cell_type": "code",
   "execution_count": null,
   "metadata": {
    "collapsed": true
   },
   "outputs": [],
   "source": []
  },
  {
   "cell_type": "code",
   "execution_count": 195,
   "metadata": {
    "collapsed": true
   },
   "outputs": [],
   "source": [
    "weeks_chandler_anderson = WeeksChandlerAnderson()"
   ]
  },
  {
   "cell_type": "code",
   "execution_count": 196,
   "metadata": {
    "collapsed": false
   },
   "outputs": [],
   "source": [
    "weeks_chandler_anderson.SetParamsState({'d':True, 'epsilon': True, 'alpha': False, 'max_ur': True})"
   ]
  },
  {
   "cell_type": "code",
   "execution_count": 197,
   "metadata": {
    "collapsed": true
   },
   "outputs": [],
   "source": [
    "params_val = {'d': 1.0, 'epsilon': 1.0, 'alpha': 6, 'max_ur': float(1e6)}"
   ]
  },
  {
   "cell_type": "code",
   "execution_count": 198,
   "metadata": {
    "collapsed": true
   },
   "outputs": [],
   "source": [
    "relative_entropy_update = RelativeEntropyUpdate()"
   ]
  },
  {
   "cell_type": "code",
   "execution_count": 199,
   "metadata": {
    "collapsed": true
   },
   "outputs": [],
   "source": [
    "relative_entropy_update.LoadPotential(weeks_chandler_anderson, params_val)"
   ]
  },
  {
   "cell_type": "code",
   "execution_count": 200,
   "metadata": {
    "collapsed": false
   },
   "outputs": [
    {
     "data": {
      "text/plain": [
       "{'alpha': False, 'd': True, 'epsilon': True, 'max_ur': True}"
      ]
     },
     "execution_count": 200,
     "metadata": {},
     "output_type": "execute_result"
    }
   ],
   "source": [
    "relative_entropy_update.pot.params_state"
   ]
  },
  {
   "cell_type": "code",
   "execution_count": 201,
   "metadata": {
    "collapsed": true
   },
   "outputs": [],
   "source": [
    "relative_entropy_update.LoadRadialDistFuncs('./test_data/rdf_cluster.xvg', './test_data/rdf_crystal.xvg', spacing=0.02)"
   ]
  },
  {
   "cell_type": "code",
   "execution_count": 203,
   "metadata": {
    "collapsed": false
   },
   "outputs": [
    {
     "data": {
      "text/plain": [
       "{'alpha': 6,\n",
       " 'd': 0.93595207833108895,\n",
       " 'epsilon': 0.98410880352450747,\n",
       " 'max_ur': 1000000.0}"
      ]
     },
     "execution_count": 203,
     "metadata": {},
     "output_type": "execute_result"
    }
   ],
   "source": [
    "relative_entropy_update.CalcUpdate(learning_rate=0.01)"
   ]
  },
  {
   "cell_type": "code",
   "execution_count": 137,
   "metadata": {
    "collapsed": false
   },
   "outputs": [],
   "source": [
    "_dalpha = relative_entropy_update.GetDerivative('alpha')\n",
    "_depsilon = relative_entropy_update.GetDerivative('epsilon')\n",
    "_rs = relative_entropy_update.r"
   ]
  },
  {
   "cell_type": "code",
   "execution_count": null,
   "metadata": {
    "collapsed": true
   },
   "outputs": [],
   "source": []
  },
  {
   "cell_type": "code",
   "execution_count": null,
   "metadata": {
    "collapsed": true
   },
   "outputs": [],
   "source": []
  },
  {
   "cell_type": "code",
   "execution_count": 2,
   "metadata": {
    "collapsed": true
   },
   "outputs": [],
   "source": [
    "class TestPotential:\n",
    "    #load in any default parameters needed\n",
    "    def __init__(self):\n",
    "        self.num_params_opt = 3\n",
    "        self.num_params_fixed = 0\n",
    "        return None\n",
    "        \n",
    "    #this is the actual potential\n",
    "    def Potential(self, r, params_opt, params_fixed):\n",
    "        x1, x2, x3 = (params_opt[0], params_opt[1], params_opt[2])\n",
    "        return (r*x1 - x2)**2.0 - r*x3\n",
    "        \n",
    "    def DefaultParameters(self):\n",
    "        return (array([22.0, 3.3, -12.1]), array([]))"
   ]
  },
  {
   "cell_type": "code",
   "execution_count": 3,
   "metadata": {
    "collapsed": true
   },
   "outputs": [],
   "source": [
    "test_potential = TestPotential()"
   ]
  },
  {
   "cell_type": "code",
   "execution_count": 4,
   "metadata": {
    "collapsed": true
   },
   "outputs": [],
   "source": [
    "relative_entropy_update = RelativeEntropyUpdate()"
   ]
  },
  {
   "cell_type": "code",
   "execution_count": 5,
   "metadata": {
    "collapsed": false
   },
   "outputs": [],
   "source": [
    "relative_entropy_update.LoadPotential(test_potential, {'opt': [0.1, 2.0, 0.0], 'fixed':[]})"
   ]
  },
  {
   "cell_type": "code",
   "execution_count": 6,
   "metadata": {
    "collapsed": false
   },
   "outputs": [
    {
     "data": {
      "text/plain": [
       "<__main__.TestPotential instance at 0x00000000062052C8>"
      ]
     },
     "execution_count": 6,
     "metadata": {},
     "output_type": "execute_result"
    }
   ],
   "source": [
    "relative_entropy_update.pot"
   ]
  },
  {
   "cell_type": "code",
   "execution_count": 7,
   "metadata": {
    "collapsed": false
   },
   "outputs": [
    {
     "name": "stdout",
     "output_type": "stream",
     "text": [
      "[0.1, 2.0, 0.0]\n"
     ]
    }
   ],
   "source": [
    "print relative_entropy_update.params_opt"
   ]
  },
  {
   "cell_type": "code",
   "execution_count": 8,
   "metadata": {
    "collapsed": false
   },
   "outputs": [
    {
     "name": "stdout",
     "output_type": "stream",
     "text": [
      "[]\n"
     ]
    }
   ],
   "source": [
    "print relative_entropy_update.params_fixed"
   ]
  },
  {
   "cell_type": "code",
   "execution_count": 9,
   "metadata": {
    "collapsed": false
   },
   "outputs": [],
   "source": [
    "relative_entropy_update.LoadRadialDistFuncs('./test_data/rdf_cluster.xvg', './test_data/rdf_crystal.xvg', spacing=0.02)"
   ]
  },
  {
   "cell_type": "code",
   "execution_count": 10,
   "metadata": {
    "collapsed": false
   },
   "outputs": [
    {
     "name": "stdout",
     "output_type": "stream",
     "text": [
      "[ 0.    0.02  0.04  0.06  0.08  0.1   0.12  0.14  0.16  0.18  0.2   0.22\n",
      "  0.24  0.26  0.28  0.3   0.32  0.34  0.36  0.38  0.4   0.42  0.44  0.46\n",
      "  0.48  0.5   0.52  0.54  0.56  0.58  0.6   0.62  0.64  0.66  0.68  0.7\n",
      "  0.72  0.74  0.76  0.78  0.8   0.82  0.84  0.86  0.88  0.9   0.92  0.94\n",
      "  0.96  0.98  1.    1.02  1.04  1.06  1.08  1.1   1.12  1.14  1.16  1.18\n",
      "  1.2   1.22  1.24  1.26  1.28  1.3   1.32  1.34  1.36  1.38  1.4   1.42\n",
      "  1.44  1.46  1.48  1.5   1.52  1.54  1.56  1.58  1.6   1.62  1.64  1.66\n",
      "  1.68  1.7   1.72  1.74  1.76  1.78  1.8   1.82  1.84  1.86  1.88  1.9\n",
      "  1.92  1.94  1.96  1.98  2.    2.02  2.04  2.06  2.08  2.1   2.12  2.14\n",
      "  2.16  2.18  2.2   2.22  2.24  2.26  2.28  2.3   2.32  2.34  2.36  2.38\n",
      "  2.4   2.42  2.44  2.46  2.48  2.5   2.52  2.54  2.56  2.58  2.6   2.62\n",
      "  2.64  2.66  2.68  2.7   2.72  2.74  2.76  2.78  2.8   2.82  2.84  2.86\n",
      "  2.88  2.9   2.92  2.94  2.96  2.98  3.    3.02  3.04  3.06  3.08  3.1\n",
      "  3.12  3.14  3.16  3.18  3.2   3.22  3.24  3.26  3.28  3.3   3.32  3.34\n",
      "  3.36  3.38  3.4   3.42  3.44  3.46  3.48  3.5   3.52  3.54  3.56  3.58\n",
      "  3.6   3.62  3.64  3.66  3.68  3.7   3.72  3.74  3.76  3.78  3.8   3.82\n",
      "  3.84  3.86  3.88  3.9   3.92  3.94  3.96  3.98  4.    4.02  4.04  4.06\n",
      "  4.08  4.1   4.12  4.14  4.16  4.18  4.2   4.22  4.24  4.26  4.28  4.3\n",
      "  4.32  4.34  4.36  4.38  4.4   4.42  4.44  4.46  4.48  4.5   4.52  4.54\n",
      "  4.56  4.58  4.6   4.62  4.64  4.66  4.68  4.7   4.72  4.74  4.76  4.78\n",
      "  4.8   4.82  4.84  4.86  4.88  4.9   4.92  4.94  4.96  4.98  5.    5.02\n",
      "  5.04  5.06  5.08  5.1 ]\n"
     ]
    }
   ],
   "source": [
    "print relative_entropy_update.r"
   ]
  },
  {
   "cell_type": "code",
   "execution_count": 11,
   "metadata": {
    "collapsed": false
   },
   "outputs": [
    {
     "name": "stdout",
     "output_type": "stream",
     "text": [
      "[  0.       -0.07992  -0.15968  -0.23928  -0.31872  -0.398    -0.47712\n",
      "  -0.55608  -0.63488  -0.71352  -0.792    -0.87032  -0.94848  -1.02648\n",
      "  -1.10432  -1.182    -1.25952  -1.33688  -1.41408  -1.49112  -1.568\n",
      "  -1.64472  -1.72128  -1.79768  -1.87392  -1.95     -2.02592  -2.10168\n",
      "  -2.17728  -2.25272  -2.328    -2.40312  -2.47808  -2.55288  -2.62752\n",
      "  -2.702    -2.77632  -2.85048  -2.92448  -2.99832  -3.072    -3.14552\n",
      "  -3.21888  -3.29208  -3.36512  -3.438    -3.51072  -3.58328  -3.65568\n",
      "  -3.72792  -3.8      -3.87192  -3.94368  -4.01528  -4.08672  -4.158\n",
      "  -4.22912  -4.30008  -4.37088  -4.44152  -4.512    -4.58232  -4.65248\n",
      "  -4.72248  -4.79232  -4.862    -4.93152  -5.00088  -5.07008  -5.13912\n",
      "  -5.208    -5.27672  -5.34528  -5.41368  -5.48192  -5.55     -5.61792\n",
      "  -5.68568  -5.75328  -5.82072  -5.888    -5.95512  -6.02208  -6.08888\n",
      "  -6.15552  -6.222    -6.28832  -6.35448  -6.42048  -6.48632  -6.552\n",
      "  -6.61752  -6.68288  -6.74808  -6.81312  -6.878    -6.94272  -7.00728\n",
      "  -7.07168  -7.13592  -7.2      -7.26392  -7.32768  -7.39128  -7.45472\n",
      "  -7.518    -7.58112  -7.64408  -7.70688  -7.76952  -7.832    -7.89432\n",
      "  -7.95648  -8.01848  -8.08032  -8.142    -8.20352  -8.26488  -8.32608\n",
      "  -8.38712  -8.448    -8.50872  -8.56928  -8.62968  -8.68992  -8.75\n",
      "  -8.80992  -8.86968  -8.92928  -8.98872  -9.048    -9.10712  -9.16608\n",
      "  -9.22488  -9.28352  -9.342    -9.40032  -9.45848  -9.51648  -9.57432\n",
      "  -9.632    -9.68952  -9.74688  -9.80408  -9.86112  -9.918    -9.97472\n",
      " -10.03128 -10.08768 -10.14392 -10.2     -10.25592 -10.31168 -10.36728\n",
      " -10.42272 -10.478   -10.53312 -10.58808 -10.64288 -10.69752 -10.752\n",
      " -10.80632 -10.86048 -10.91448 -10.96832 -11.022   -11.07552 -11.12888\n",
      " -11.18208 -11.23512 -11.288   -11.34072 -11.39328 -11.44568 -11.49792\n",
      " -11.55    -11.60192 -11.65368 -11.70528 -11.75672 -11.808   -11.85912\n",
      " -11.91008 -11.96088 -12.01152 -12.062   -12.11232 -12.16248 -12.21248\n",
      " -12.26232 -12.312   -12.36152 -12.41088 -12.46008 -12.50912 -12.558\n",
      " -12.60672 -12.65528 -12.70368 -12.75192 -12.8     -12.84792 -12.89568\n",
      " -12.94328 -12.99072 -13.038   -13.08512 -13.13208 -13.17888 -13.22552\n",
      " -13.272   -13.31832 -13.36448 -13.41048 -13.45632 -13.502   -13.54752\n",
      " -13.59288 -13.63808 -13.68312 -13.728   -13.77272 -13.81728 -13.86168\n",
      " -13.90592 -13.95    -13.99392 -14.03768 -14.08128 -14.12472 -14.168\n",
      " -14.21112 -14.25408 -14.29688 -14.33952 -14.382   -14.42432 -14.46648\n",
      " -14.50848 -14.55032 -14.592   -14.63352 -14.67488 -14.71608 -14.75712\n",
      " -14.798   -14.83872 -14.87928 -14.91968 -14.95992 -15.      -15.03992\n",
      " -15.07968 -15.11928 -15.15872 -15.198  ]\n",
      "[ 4.     3.996  3.992  3.988  3.984  3.98   3.976  3.972  3.968  3.964\n",
      "  3.96   3.956  3.952  3.948  3.944  3.94   3.936  3.932  3.928  3.924\n",
      "  3.92   3.916  3.912  3.908  3.904  3.9    3.896  3.892  3.888  3.884\n",
      "  3.88   3.876  3.872  3.868  3.864  3.86   3.856  3.852  3.848  3.844\n",
      "  3.84   3.836  3.832  3.828  3.824  3.82   3.816  3.812  3.808  3.804  3.8\n",
      "  3.796  3.792  3.788  3.784  3.78   3.776  3.772  3.768  3.764  3.76\n",
      "  3.756  3.752  3.748  3.744  3.74   3.736  3.732  3.728  3.724  3.72\n",
      "  3.716  3.712  3.708  3.704  3.7    3.696  3.692  3.688  3.684  3.68\n",
      "  3.676  3.672  3.668  3.664  3.66   3.656  3.652  3.648  3.644  3.64\n",
      "  3.636  3.632  3.628  3.624  3.62   3.616  3.612  3.608  3.604  3.6    3.596\n",
      "  3.592  3.588  3.584  3.58   3.576  3.572  3.568  3.564  3.56   3.556\n",
      "  3.552  3.548  3.544  3.54   3.536  3.532  3.528  3.524  3.52   3.516\n",
      "  3.512  3.508  3.504  3.5    3.496  3.492  3.488  3.484  3.48   3.476\n",
      "  3.472  3.468  3.464  3.46   3.456  3.452  3.448  3.444  3.44   3.436\n",
      "  3.432  3.428  3.424  3.42   3.416  3.412  3.408  3.404  3.4    3.396\n",
      "  3.392  3.388  3.384  3.38   3.376  3.372  3.368  3.364  3.36   3.356\n",
      "  3.352  3.348  3.344  3.34   3.336  3.332  3.328  3.324  3.32   3.316\n",
      "  3.312  3.308  3.304  3.3    3.296  3.292  3.288  3.284  3.28   3.276\n",
      "  3.272  3.268  3.264  3.26   3.256  3.252  3.248  3.244  3.24   3.236\n",
      "  3.232  3.228  3.224  3.22   3.216  3.212  3.208  3.204  3.2    3.196\n",
      "  3.192  3.188  3.184  3.18   3.176  3.172  3.168  3.164  3.16   3.156\n",
      "  3.152  3.148  3.144  3.14   3.136  3.132  3.128  3.124  3.12   3.116\n",
      "  3.112  3.108  3.104  3.1    3.096  3.092  3.088  3.084  3.08   3.076\n",
      "  3.072  3.068  3.064  3.06   3.056  3.052  3.048  3.044  3.04   3.036\n",
      "  3.032  3.028  3.024  3.02   3.016  3.012  3.008  3.004  3.     2.996\n",
      "  2.992  2.988  2.984  2.98 ]\n",
      "[ 0.   -0.02 -0.04 -0.06 -0.08 -0.1  -0.12 -0.14 -0.16 -0.18 -0.2  -0.22\n",
      " -0.24 -0.26 -0.28 -0.3  -0.32 -0.34 -0.36 -0.38 -0.4  -0.42 -0.44 -0.46\n",
      " -0.48 -0.5  -0.52 -0.54 -0.56 -0.58 -0.6  -0.62 -0.64 -0.66 -0.68 -0.7\n",
      " -0.72 -0.74 -0.76 -0.78 -0.8  -0.82 -0.84 -0.86 -0.88 -0.9  -0.92 -0.94\n",
      " -0.96 -0.98 -1.   -1.02 -1.04 -1.06 -1.08 -1.1  -1.12 -1.14 -1.16 -1.18\n",
      " -1.2  -1.22 -1.24 -1.26 -1.28 -1.3  -1.32 -1.34 -1.36 -1.38 -1.4  -1.42\n",
      " -1.44 -1.46 -1.48 -1.5  -1.52 -1.54 -1.56 -1.58 -1.6  -1.62 -1.64 -1.66\n",
      " -1.68 -1.7  -1.72 -1.74 -1.76 -1.78 -1.8  -1.82 -1.84 -1.86 -1.88 -1.9\n",
      " -1.92 -1.94 -1.96 -1.98 -2.   -2.02 -2.04 -2.06 -2.08 -2.1  -2.12 -2.14\n",
      " -2.16 -2.18 -2.2  -2.22 -2.24 -2.26 -2.28 -2.3  -2.32 -2.34 -2.36 -2.38\n",
      " -2.4  -2.42 -2.44 -2.46 -2.48 -2.5  -2.52 -2.54 -2.56 -2.58 -2.6  -2.62\n",
      " -2.64 -2.66 -2.68 -2.7  -2.72 -2.74 -2.76 -2.78 -2.8  -2.82 -2.84 -2.86\n",
      " -2.88 -2.9  -2.92 -2.94 -2.96 -2.98 -3.   -3.02 -3.04 -3.06 -3.08 -3.1\n",
      " -3.12 -3.14 -3.16 -3.18 -3.2  -3.22 -3.24 -3.26 -3.28 -3.3  -3.32 -3.34\n",
      " -3.36 -3.38 -3.4  -3.42 -3.44 -3.46 -3.48 -3.5  -3.52 -3.54 -3.56 -3.58\n",
      " -3.6  -3.62 -3.64 -3.66 -3.68 -3.7  -3.72 -3.74 -3.76 -3.78 -3.8  -3.82\n",
      " -3.84 -3.86 -3.88 -3.9  -3.92 -3.94 -3.96 -3.98 -4.   -4.02 -4.04 -4.06\n",
      " -4.08 -4.1  -4.12 -4.14 -4.16 -4.18 -4.2  -4.22 -4.24 -4.26 -4.28 -4.3\n",
      " -4.32 -4.34 -4.36 -4.38 -4.4  -4.42 -4.44 -4.46 -4.48 -4.5  -4.52 -4.54\n",
      " -4.56 -4.58 -4.6  -4.62 -4.64 -4.66 -4.68 -4.7  -4.72 -4.74 -4.76 -4.78\n",
      " -4.8  -4.82 -4.84 -4.86 -4.88 -4.9  -4.92 -4.94 -4.96 -4.98 -5.   -5.02\n",
      " -5.04 -5.06 -5.08 -5.1 ]\n"
     ]
    }
   ],
   "source": [
    "for entry in relative_entropy_update.GetDerivatives():\n",
    "    print entry"
   ]
  },
  {
   "cell_type": "code",
   "execution_count": 12,
   "metadata": {
    "collapsed": false
   },
   "outputs": [
    {
     "data": {
      "text/plain": [
       "{'fixed': [],\n",
       " 'opt': [0.312187550652103, 1.9931914803569022, 0.0730389096300329]}"
      ]
     },
     "execution_count": 12,
     "metadata": {},
     "output_type": "execute_result"
    }
   ],
   "source": [
    "relative_entropy_update.CalcUpdate(learning_rate=0.001)"
   ]
  },
  {
   "cell_type": "code",
   "execution_count": 13,
   "metadata": {
    "collapsed": false
   },
   "outputs": [
    {
     "name": "stdout",
     "output_type": "stream",
     "text": [
      "[0.1, 2.0, 0.0]\n"
     ]
    }
   ],
   "source": [
    "print relative_entropy_update.params_opt"
   ]
  },
  {
   "cell_type": "code",
   "execution_count": null,
   "metadata": {
    "collapsed": true
   },
   "outputs": [],
   "source": []
  },
  {
   "cell_type": "code",
   "execution_count": null,
   "metadata": {
    "collapsed": true
   },
   "outputs": [],
   "source": []
  },
  {
   "cell_type": "markdown",
   "metadata": {
    "collapsed": true
   },
   "source": [
    "### Program to actually perform the update"
   ]
  },
  {
   "cell_type": "code",
   "execution_count": null,
   "metadata": {
    "collapsed": true
   },
   "outputs": [],
   "source": [
    "from iter_sim_framework.relative_entropy_optimization import RelativeEntropyUpdate\n",
    "import json\n",
    "\n",
    "if __name__ == \"__main__\":\n",
    "    #read some parameters in from the .xml file\n",
    "    #potential_name\n",
    "    #current_potential_parameters_filename\n",
    "    #current rdf filename\n",
    "    #target rdf filename\n",
    "    #learning_rate\n",
    "    #dim \n",
    "    \n",
    "    #import the potential\n",
    "    potential = __import__(('iter_sim_framework.potentials.%s' % potential_name))\n",
    "    #import the potential parameters to optimize from\n",
    "    with open('params.json', 'r') as infile:\n",
    "        params = json.load(infile)\n",
    "                  \n",
    "    #establish a relative entropy update instance\n",
    "    #params = {'opt': [0.1, 2.0, 0.0], 'fixed':[]}\n",
    "    relative_entropy_update = RelativeEntropyUpdate()\n",
    "    relative_entropy_update.LoadPotential(potential.Potential, params)\n",
    "    relative_entropy_update.LoadRadialDistFuncs(filename_current, filename_target, spacing)\n",
    "    params_out = relative_entropy_update.CalcUpdate(learning_rate, dim)\n",
    "    \n",
    "    #write out the new potential parameters\n",
    "    with open('params_out.json', 'w') as outfile:\n",
    "        json.dump(params_out, outfile)"
   ]
  },
  {
   "cell_type": "code",
   "execution_count": 265,
   "metadata": {
    "collapsed": false
   },
   "outputs": [
    {
     "data": {
      "text/plain": [
       "{'dic0': 0, 'dic1': 1}"
      ]
     },
     "execution_count": 265,
     "metadata": {},
     "output_type": "execute_result"
    }
   ],
   "source": [
    "dic0 = {'dic0':0}\n",
    "dic1 = {'dic1':1}\n",
    "ndic = dict(dic0.items() + dic1.items())\n",
    "ndic"
   ]
  },
  {
   "cell_type": "code",
   "execution_count": 266,
   "metadata": {
    "collapsed": false
   },
   "outputs": [
    {
     "data": {
      "text/plain": [
       "[('dic0', 0)]"
      ]
     },
     "execution_count": 266,
     "metadata": {},
     "output_type": "execute_result"
    }
   ],
   "source": [
    "dic0.items()"
   ]
  },
  {
   "cell_type": "code",
   "execution_count": 276,
   "metadata": {
    "collapsed": false
   },
   "outputs": [
    {
     "data": {
      "text/plain": [
       "{'d': 'A', 'd_p': 0.2, 'rho_p': 0.1, 'w': 50.0}"
      ]
     },
     "execution_count": 276,
     "metadata": {},
     "output_type": "execute_result"
    }
   ],
   "source": [
    "from copy import deepcopy\n",
    "x='A'\n",
    "dict0 = {'rho_p': 0.1, 'd_p': 0.2, 'd': 1.0, 'w': 50.0}\n",
    "param_name = 'd'\n",
    "dict1 = deepcopy(dict0)\n",
    "del dict1[param_name]\n",
    "dict(dict1.items() + [(param_name, x)])\n"
   ]
  },
  {
   "cell_type": "code",
   "execution_count": null,
   "metadata": {
    "collapsed": true
   },
   "outputs": [],
   "source": [
    "items\n",
    "for key in dict0:\n",
    "    "
   ]
  },
  {
   "cell_type": "code",
   "execution_count": null,
   "metadata": {
    "collapsed": true
   },
   "outputs": [],
   "source": []
  },
  {
   "cell_type": "code",
   "execution_count": null,
   "metadata": {
    "collapsed": true
   },
   "outputs": [],
   "source": []
  },
  {
   "cell_type": "code",
   "execution_count": null,
   "metadata": {
    "collapsed": true
   },
   "outputs": [],
   "source": []
  },
  {
   "cell_type": "code",
   "execution_count": null,
   "metadata": {
    "collapsed": true
   },
   "outputs": [],
   "source": []
  },
  {
   "cell_type": "code",
   "execution_count": null,
   "metadata": {
    "collapsed": true
   },
   "outputs": [],
   "source": [
    "nums"
   ]
  },
  {
   "cell_type": "markdown",
   "metadata": {},
   "source": [
    "### Class for converting tabulated rdf data into a function and pickling"
   ]
  },
  {
   "cell_type": "code",
   "execution_count": 228,
   "metadata": {
    "collapsed": false
   },
   "outputs": [],
   "source": [
    "from numpy import array\n",
    "from scipy.interpolate import Akima1DInterpolator as Akima\n",
    "import re\n",
    "\n",
    "class AkimaCreator:\n",
    "    #dummy palaceholder for now\n",
    "    def __init__(self):\n",
    "        self.num_re = r'^\\s*([0-9eE\\+\\-\\.]+)[,;\\s]+([0-9eE\\+\\-\\.]+)\\.*'\n",
    "        return None\n",
    "    \n",
    "    #loads the rdf data and extracts the x and y\n",
    "    def LoadData(self, filename):\n",
    "        f = open(filename, 'r')\n",
    "        data = f.readlines()\n",
    "        x = []\n",
    "        y = []\n",
    "        for line in data:\n",
    "            match = re.match(self.num_re, line)\n",
    "            if match:\n",
    "                x.append(float(match.group(1)))\n",
    "                y.append(float(match.group(2)))\n",
    "        f.close\n",
    "        return (array(x), array(y))\n",
    "    \n",
    "    #load in the data and make an akima out of it\n",
    "    def Create(self, filename):\n",
    "        x, y = self.LoadData(filename)\n",
    "        self.akima = Akima(x, y)\n",
    "        return None\n",
    "    \n",
    "    #this is the actual akima function\n",
    "    def Akima(self, x):\n",
    "        x = array([x])\n",
    "        return self.akima.__call__(x, nu=0, extrapolate=None)[0]"
   ]
  },
  {
   "cell_type": "markdown",
   "metadata": {},
   "source": [
    "**Create and test the class**"
   ]
  },
  {
   "cell_type": "code",
   "execution_count": 229,
   "metadata": {
    "collapsed": true
   },
   "outputs": [],
   "source": [
    "akima_creator = AkimaCreator()"
   ]
  },
  {
   "cell_type": "code",
   "execution_count": 230,
   "metadata": {
    "collapsed": true
   },
   "outputs": [],
   "source": [
    "x, y = akima_creator.LoadData('./test_data/rdf_cluster.xvg')"
   ]
  },
  {
   "cell_type": "code",
   "execution_count": 231,
   "metadata": {
    "collapsed": false
   },
   "outputs": [],
   "source": [
    "akima_creator.Create('./test_data/rdf_cluster.xvg')"
   ]
  },
  {
   "cell_type": "code",
   "execution_count": 232,
   "metadata": {
    "collapsed": false
   },
   "outputs": [
    {
     "data": {
      "text/plain": [
       "2.2368100000000002"
      ]
     },
     "execution_count": 232,
     "metadata": {},
     "output_type": "execute_result"
    }
   ],
   "source": [
    "akima_creator.Akima(2.3)"
   ]
  },
  {
   "cell_type": "code",
   "execution_count": 233,
   "metadata": {
    "collapsed": false
   },
   "outputs": [],
   "source": [
    "import matplotlib.pyplot as plt\n",
    "%matplotlib inline \n",
    "from numpy import arange"
   ]
  },
  {
   "cell_type": "code",
   "execution_count": 234,
   "metadata": {
    "collapsed": false
   },
   "outputs": [],
   "source": [
    "x_fit = arange(0.0, 4.0, 0.0001)\n",
    "y_fit = [akima_creator.Akima(q) for q in x_fit]"
   ]
  },
  {
   "cell_type": "code",
   "execution_count": 235,
   "metadata": {
    "collapsed": false
   },
   "outputs": [
    {
     "data": {
      "image/png": "[encoded data removed]",
      "text/plain": [
       "<matplotlib.figure.Figure at 0xa8f7f98>"
      ]
     },
     "metadata": {},
     "output_type": "display_data"
    }
   ],
   "source": [
    "plt.scatter(x, y)\n",
    "plt.plot(x_fit, y_fit, c='r')\n",
    "plt.xlim(0.5, 5)\n",
    "plt.ylim(0.001, 100)\n",
    "plt.yscale('log')"
   ]
  },
  {
   "cell_type": "code",
   "execution_count": null,
   "metadata": {
    "collapsed": true
   },
   "outputs": [],
   "source": []
  },
  {
   "cell_type": "code",
   "execution_count": null,
   "metadata": {
    "collapsed": true
   },
   "outputs": [],
   "source": []
  },
  {
   "cell_type": "code",
   "execution_count": null,
   "metadata": {
    "collapsed": true
   },
   "outputs": [],
   "source": [
    "from numpy import array, arange\n",
    "import numdifftools as nd\n",
    "import scipy.integrate as integrate\n",
    "from scipy.interpolate import Akima1DInterpolator as Akima\n",
    "\n",
    "class RelativeEntropyUpdate:\n",
    "    #nothing here yet\n",
    "    def __init__(self):\n",
    "        return None\n",
    "    \n",
    "    #load in a function that describes the interaction and current parameters ala {'opt':[], 'fixed':[]}\n",
    "    def LoadPotential(self, pot, params)\n",
    "        self.pot = pot\n",
    "        self.params_opt = params['opt']\n",
    "        self.params_fixed = params['fixed']\n",
    "        return None\n",
    "    \n",
    "    #generator for the derivative functions in r-space for any potential\n",
    "    def GetDerivatives(self):\n",
    "    for i in range(len(self.params_opt)):\n",
    "        x_cur = self.params_opt[i]\n",
    "        dur = []\n",
    "        for r in self.r:\n",
    "            ur_ = lambda x: self.pot(r, (self.params_opt[0:i] + [x] + self.params_opt[i+1:]), self.params_fixed)\n",
    "            dur_ = nd.Derivative(ur_)\n",
    "            dur.append(dur_(x_cur))\n",
    "        yield array(dur)\n",
    "    \n",
    "    #read in tabulated data\n",
    "    def GetRadialDistData(self, filename):\n",
    "        f = open(filename, 'r')\n",
    "        data = f.readlines()\n",
    "        r = []\n",
    "        gr = []\n",
    "        for line in data:\n",
    "            match = re.match(self.num_re, line)\n",
    "            if match:\n",
    "                r.append(float(match.group(1)))\n",
    "                gr.append(float(match.group(2)))\n",
    "        f.close()\n",
    "        return (1.0*array(r), 1.0*array(gr))\n",
    "    \n",
    "    #load the rdf from file and always make sure it is usable in case of user abuse\n",
    "    def LoadRadialDistFuncs(self, filename_current, filename_target, integration_spacing=0.005):\n",
    "        #read in the data\n",
    "        r, gr = self.GetRadialDistData(filename_current)\n",
    "        r_tgt, gr_tgt = self.GetRadialDistData(filename_target)\n",
    "        #sample according to an akima spline fit\n",
    "        r_lower, r_upper = (max(r[0], r_tgt[0]), min(r[-1], r_tgt[-1]))\n",
    "        self.r = arange(r_lower, r_upper, spacing)\n",
    "        akima = Akima(r, gr)\n",
    "        self.gr = akima.__call__(self.r, nu=0, extrapolate=None)\n",
    "        akima = Akima(r_tgt, gr_tgt)\n",
    "        self.gr_tgt = akima.__call__(self.r, nu=0, extrapolate=None)        \n",
    "        return None\n",
    "    \n",
    "    #calculate update\n",
    "    def CalcUpdate(self, learning_rate=0.05, dim=3):\n",
    "        param_updates = []\n",
    "        for dur in GetDerivatives():\n",
    "            update_integral = integrate.trapz(((self.r**(dim - 1))*(self.gr - self.gr_tgt)*dur), x=self.r)\n",
    "            param_updates.append(learning_rate*update_integral)\n",
    "        params_new = (array(self.params_opt) + array(param_updates)).tolist()\n",
    "        return {'opt': params_new, 'fixed': self.params_fixed}"
   ]
  },
  {
   "cell_type": "code",
   "execution_count": null,
   "metadata": {
    "collapsed": true
   },
   "outputs": [],
   "source": []
  },
  {
   "cell_type": "code",
   "execution_count": null,
   "metadata": {
    "collapsed": true
   },
   "outputs": [],
   "source": [
    "def GetDerivatives(self):\n",
    "    #iterate over parameters and calculate individual \n",
    "    for i in range(len(self.params_opt)):\n",
    "        x_cur = self.params_opt[i]\n",
    "        #iterate over r to build up the derivative to be integrated\n",
    "        dur = []\n",
    "        for r in self.r:\n",
    "            ur_ = lambda x: self.pot(r, (params_opt[0:i] + [x] + params_opt[i+1:]), self.params_fixed)\n",
    "            dur_ = nd.Derivative(ur_)\n",
    "            dur.append(dur_(x_cur))\n",
    "        yield array(dur)"
   ]
  },
  {
   "cell_type": "code",
   "execution_count": 257,
   "metadata": {
    "collapsed": true
   },
   "outputs": [],
   "source": [
    "from numpy import arange"
   ]
  },
  {
   "cell_type": "code",
   "execution_count": 259,
   "metadata": {
    "collapsed": false
   },
   "outputs": [
    {
     "data": {
      "text/plain": [
       "array([  5.00000000e-03,   1.00000000e-02,   1.50000000e-02, ...,\n",
       "         9.69850000e+01,   9.69900000e+01,   9.69950000e+01])"
      ]
     },
     "execution_count": 259,
     "metadata": {},
     "output_type": "execute_result"
    }
   ],
   "source": [
    "arange(0.005, 97, 0.005)"
   ]
  },
  {
   "cell_type": "code",
   "execution_count": 261,
   "metadata": {
    "collapsed": false
   },
   "outputs": [
    {
     "data": {
      "text/plain": [
       "array([1, 3, 4, 5])"
      ]
     },
     "execution_count": 261,
     "metadata": {},
     "output_type": "execute_result"
    }
   ],
   "source": [
    "array([1,3,4,5])"
   ]
  },
  {
   "cell_type": "code",
   "execution_count": null,
   "metadata": {
    "collapsed": true
   },
   "outputs": [],
   "source": []
  },
  {
   "cell_type": "code",
   "execution_count": 239,
   "metadata": {
    "collapsed": true
   },
   "outputs": [],
   "source": [
    "def Thingy(X):\n",
    "    return X[0] + 2.0*X[1] - X[2]**2.0"
   ]
  },
  {
   "cell_type": "code",
   "execution_count": 240,
   "metadata": {
    "collapsed": true
   },
   "outputs": [],
   "source": [
    "thingy_2 = lambda x: Thingy([2, x, 6])"
   ]
  },
  {
   "cell_type": "code",
   "execution_count": 241,
   "metadata": {
    "collapsed": false
   },
   "outputs": [
    {
     "data": {
      "text/plain": [
       "-28.0"
      ]
     },
     "execution_count": 241,
     "metadata": {},
     "output_type": "execute_result"
    }
   ],
   "source": [
    "thingy_2(3)"
   ]
  },
  {
   "cell_type": "code",
   "execution_count": 242,
   "metadata": {
    "collapsed": false
   },
   "outputs": [
    {
     "data": {
      "text/plain": [
       "[array([  0.00000000e+00,   5.00000000e-03,   1.00000000e-02, ...,\n",
       "          2.33150000e+01,   2.33200000e+01,   2.33250000e+01])]"
      ]
     },
     "execution_count": 242,
     "metadata": {},
     "output_type": "execute_result"
    }
   ],
   "source": [
    "[x]"
   ]
  },
  {
   "cell_type": "code",
   "execution_count": 254,
   "metadata": {
    "collapsed": false
   },
   "outputs": [
    {
     "name": "stdout",
     "output_type": "stream",
     "text": [
      "['x', 7, 2]\n",
      "[3, 'x', 2]\n",
      "[3, 7, 'x']\n"
     ]
    }
   ],
   "source": [
    "q = [3,4,0,2,7,4,1]\n",
    "q = [3,7,2]\n",
    "for i in range(len(q)):\n",
    "    print (q[0:i] + ['x'] + q[i+1:])"
   ]
  },
  {
   "cell_type": "code",
   "execution_count": 256,
   "metadata": {
    "collapsed": false
   },
   "outputs": [
    {
     "data": {
      "text/plain": [
       "[4, 5, 6]"
      ]
     },
     "execution_count": 256,
     "metadata": {},
     "output_type": "execute_result"
    }
   ],
   "source": [
    "(array([3,4,5]) + array([1,1,1])).tolist()"
   ]
  },
  {
   "cell_type": "code",
   "execution_count": null,
   "metadata": {
    "collapsed": true
   },
   "outputs": [],
   "source": []
  },
  {
   "cell_type": "code",
   "execution_count": null,
   "metadata": {
    "collapsed": true
   },
   "outputs": [],
   "source": []
  },
  {
   "cell_type": "markdown",
   "metadata": {},
   "source": [
    "### Class for relative entropy update"
   ]
  },
  {
   "cell_type": "code",
   "execution_count": null,
   "metadata": {
    "collapsed": true
   },
   "outputs": [],
   "source": [
    "from numpy import array\n",
    "import numdifftools as nd\n",
    "import scipy.integrate as integrate\n",
    "\n",
    "class RelativeEntropyUpdate:\n",
    "    #nothing here yet\n",
    "    def __init__(self):\n",
    "        return None\n",
    "    \n",
    "    #load in a function that describes the interaction and current parameters ala {'opt':[], 'fixed':[]}\n",
    "    def LoadPotential(self, pot, params)\n",
    "        self.pot = pot\n",
    "        self.params_opt = params['opt']\n",
    "        self.params_fixed = params['fixed']\n",
    "        return None\n",
    "    \n",
    "    #prepares the potential in a discrete format for integrating\n",
    "    def PrepPotential(self):\n",
    "        self.durs = []\n",
    "        for r in self.r:\n",
    "            ur_ = lambda params_opt: self.pot(r, params_opt, self.params_fixed)\n",
    "            dur_ = nd.Gradient(ur_)\n",
    "            self.durs.append(dur_(self.params_opt))\n",
    "        self.durs = [array(dur) for dur in zip(*self.durs)]\n",
    "        return None\n",
    "    \n",
    "    #load the rdf from file and map to an akima spline\n",
    "    def LoadRadialDistFunc(self, filename, rdf_type):\n",
    "        f = open(filename, 'r')\n",
    "        data = f.readlines()\n",
    "        self.r = []\n",
    "        self.gr = []\n",
    "        for line in data:\n",
    "            match = re.match(self.num_re, line)\n",
    "            if match:\n",
    "                self.r.append(float(match.group(1)))\n",
    "                self.gr.append(float(match.group(2)))\n",
    "        if rdf_type == 'current':\n",
    "            self.r = array(self.r)\n",
    "            self.gr = array(self.gr)\n",
    "        elif rdf_type == 'target':\n",
    "            self.r = array(self.r)\n",
    "            self.gr = array(self.gr)\n",
    "        \n",
    "        \n",
    "        return None\n",
    "    \n",
    "    #calculate update\n",
    "    def CalcUpdate(self, learning_rate=0.05, dim=3):\n",
    "        self.PrepPotential(params)\n",
    "        param_updates = []\n",
    "        for dur in self.durs:\n",
    "            update_integral = integrate.trapz(((self.r**dim)*self.gr*dur), x=self.r)\n",
    "            param_updates.append(learning_rate*update_integral)\n",
    "        param_updates = array(param_updates)    \n",
    "        return {'opt': self.params_opt + param_updates, 'fixed': self.params_fixed}"
   ]
  },
  {
   "cell_type": "markdown",
   "metadata": {},
   "source": [
    "**This is how a potential function should look like**"
   ]
  },
  {
   "cell_type": "code",
   "execution_count": null,
   "metadata": {
    "collapsed": true
   },
   "outputs": [],
   "source": [
    "class PotentialName:\n",
    "    #load in any default parameters needed\n",
    "    def __init__(self):\n",
    "        #self.num_params_opt = ?\n",
    "        #self.num_params_fixed = ?\n",
    "        #return None\n",
    "        \n",
    "    #this is the actual potential\n",
    "    def Potential(self, r, params_opt, params_fixed):\n",
    "        #calculate stuff using functional form and the inputs\n",
    "        #return potential at r\n",
    "        \n",
    "    def DefaultParameters(self):\n",
    "        #generate defaults\n",
    "        #return (params_opt, params_fixed)"
   ]
  },
  {
   "cell_type": "code",
   "execution_count": null,
   "metadata": {
    "collapsed": true
   },
   "outputs": [],
   "source": []
  },
  {
   "cell_type": "code",
   "execution_count": null,
   "metadata": {
    "collapsed": true
   },
   "outputs": [],
   "source": []
  },
  {
   "cell_type": "code",
   "execution_count": null,
   "metadata": {
    "collapsed": true
   },
   "outputs": [],
   "source": [
    "class TestPotential:\n",
    "    #load in any default parameters needed\n",
    "    def __init__(self):\n",
    "        self.num_params_opt = 3\n",
    "        self.num_params_fixed = 0\n",
    "        return None\n",
    "        \n",
    "    #this is the actual potential\n",
    "    def Potential(self, r, params_opt, params_fixed):\n",
    "        x1, x2, x3 = (params_opt[0], params_opt[1], params_opt[2])\n",
    "        return (r*x1 - x2)**2.0 - r*x3\n",
    "        \n",
    "    def DefaultParameters(self):\n",
    "        return (array([22.0, 3.3, -12.1]), array([]))"
   ]
  },
  {
   "cell_type": "code",
   "execution_count": null,
   "metadata": {
    "collapsed": true
   },
   "outputs": [],
   "source": []
  },
  {
   "cell_type": "code",
   "execution_count": 9,
   "metadata": {
    "collapsed": true
   },
   "outputs": [],
   "source": [
    "from numpy import arange"
   ]
  },
  {
   "cell_type": "code",
   "execution_count": null,
   "metadata": {
    "collapsed": true
   },
   "outputs": [],
   "source": []
  },
  {
   "cell_type": "markdown",
   "metadata": {
    "collapsed": true
   },
   "source": [
    "**AO with electro**"
   ]
  },
  {
   "cell_type": "code",
   "execution_count": 4,
   "metadata": {
    "collapsed": false
   },
   "outputs": [],
   "source": [
    "from numpy import tanh, pi\n",
    "\n",
    "class Depletion:\n",
    "    #load in any default parameters needed\n",
    "    def __init__(self):\n",
    "        self.num_params = 4\n",
    "        \n",
    "    def SetParamsState(self, params_state):\n",
    "        self.params_state = params_state\n",
    "        if len(self.params_state) != self.num_params:\n",
    "            raise AttributeError('Wrong number of parameters for depletion potential')\n",
    "        return None\n",
    "        \n",
    "    #this is the actual potential\n",
    "    def Potential(self, r, params_val):\n",
    "        #load in the opt params\n",
    "        rho_p = float(params_val['rho_p'])  #polymer concentration\n",
    "        d_p = float(params_val['d_p'])      #polymer diameter\n",
    "        d = float(params_val['d'])          #particle diameter\n",
    "        w = float(params_val['w'])          #how fast to smooth the linearly extrapolated core region to zero\n",
    "        #calculate the dimensionless potential (over k_B*T)\n",
    "        if r < d:\n",
    "            R_d = d/2.0 + d_p/2.0\n",
    "            ur0 = -1.0*(rho_p/d**3)*((4.0*pi/3.0)*(R_d**3 - (3.0/4.0)*d*R_d**2 + (1.0/16.0)*d**3)) \n",
    "            dur0 = -1.0*(rho_p/d**3)*((4.0*pi/3.0)*(-1.0*(3.0/4.0)*R_d**2 + (3.0/16.0)*d**2)) \n",
    "            ur = ur0 + dur0*(r - d)\n",
    "        elif d <= r and r < d + d_p:\n",
    "            R_d = d/2.0 + d_p/2.0\n",
    "            ur = -1.0*(rho_p/d**3)*((4.0*pi/3.0)*(R_d**3 - (3.0/4.0)*r*R_d**2 + (1.0/16.0)*r**3))    \n",
    "        else:\n",
    "            ur = 0.0\n",
    "        #smooth\n",
    "        ur = 0.5*(1.0 + tanh(w*(r - d)))*ur\n",
    "        return ur\n",
    "    \n",
    "    #holds some user defined defaults that may be desirable\n",
    "    def DefaultParameters(self):\n",
    "        return ({'rho_p': True, 'd_p': True, 'd': False, 'w': False},\n",
    "                {'rho_p': 0.1, 'd_p': 0.2, 'd': 1.0, 'w': 50.0})"
   ]
  },
  {
   "cell_type": "code",
   "execution_count": 46,
   "metadata": {
    "collapsed": false
   },
   "outputs": [],
   "source": [
    "depletion = Depletion({'rho_p': True, 'd_p': True, 'd': False, 'w': False})"
   ]
  },
  {
   "cell_type": "code",
   "execution_count": 47,
   "metadata": {
    "collapsed": false
   },
   "outputs": [],
   "source": [
    "rs = arange(0.0, 5.0, 0.001)"
   ]
  },
  {
   "cell_type": "code",
   "execution_count": 50,
   "metadata": {
    "collapsed": false
   },
   "outputs": [],
   "source": [
    "params = {'rho_p': 5.0, 'd_p': 0.6, 'd': 1.0, 'w': 50.0}\n",
    "urs = depletion.Potential(rs, params)"
   ]
  },
  {
   "cell_type": "code",
   "execution_count": 51,
   "metadata": {
    "collapsed": true
   },
   "outputs": [],
   "source": [
    "import matplotlib.pyplot as plt\n",
    "%matplotlib inline "
   ]
  },
  {
   "cell_type": "code",
   "execution_count": 52,
   "metadata": {
    "collapsed": false
   },
   "outputs": [
    {
     "ename": "KeyError",
     "evalue": "'d_p'",
     "output_type": "error",
     "traceback": [
      "\u001b[0;31m---------------------------------------------------------------------------\u001b[0m",
      "\u001b[0;31mKeyError\u001b[0m                                  Traceback (most recent call last)",
      "\u001b[0;32m<ipython-input-52-83ef61e07e9b>\u001b[0m in \u001b[0;36m<module>\u001b[0;34m()\u001b[0m\n\u001b[0;32m----> 1\u001b[0;31m \u001b[0mdd_ps\u001b[0m \u001b[1;33m=\u001b[0m \u001b[0mrelative_entropy_update\u001b[0m\u001b[1;33m.\u001b[0m\u001b[0mGetDerivative\u001b[0m\u001b[1;33m(\u001b[0m\u001b[1;34m'd_p'\u001b[0m\u001b[1;33m)\u001b[0m\u001b[1;33m\u001b[0m\u001b[0m\n\u001b[0m\u001b[1;32m      2\u001b[0m \u001b[0mdd_rho_ps\u001b[0m \u001b[1;33m=\u001b[0m \u001b[0mrelative_entropy_update\u001b[0m\u001b[1;33m.\u001b[0m\u001b[0mGetDerivative\u001b[0m\u001b[1;33m(\u001b[0m\u001b[1;34m'rho_p'\u001b[0m\u001b[1;33m)\u001b[0m\u001b[1;33m\u001b[0m\u001b[0m\n",
      "\u001b[0;32mC:\\Users\\rbj428\\Documents\\research_projects\\iterative_simulation_framework\\relative_entropy_optimizer\\relative_entropy_update.pyc\u001b[0m in \u001b[0;36mGetDerivative\u001b[0;34m(self, param_name)\u001b[0m\n\u001b[1;32m     22\u001b[0m     \u001b[1;31m#yields the the derivative functions in r-space for any potential\u001b[0m\u001b[1;33m\u001b[0m\u001b[1;33m\u001b[0m\u001b[0m\n\u001b[1;32m     23\u001b[0m     \u001b[1;32mdef\u001b[0m \u001b[0mGetDerivative\u001b[0m\u001b[1;33m(\u001b[0m\u001b[0mself\u001b[0m\u001b[1;33m,\u001b[0m \u001b[0mparam_name\u001b[0m\u001b[1;33m)\u001b[0m\u001b[1;33m:\u001b[0m\u001b[1;33m\u001b[0m\u001b[0m\n\u001b[0;32m---> 24\u001b[0;31m         \u001b[0mx_cur\u001b[0m \u001b[1;33m=\u001b[0m \u001b[0mself\u001b[0m\u001b[1;33m.\u001b[0m\u001b[0mparams_val\u001b[0m\u001b[1;33m[\u001b[0m\u001b[0mparam_name\u001b[0m\u001b[1;33m]\u001b[0m\u001b[1;33m\u001b[0m\u001b[0m\n\u001b[0m\u001b[1;32m     25\u001b[0m         \u001b[0mdur\u001b[0m \u001b[1;33m=\u001b[0m \u001b[1;33m[\u001b[0m\u001b[1;33m]\u001b[0m\u001b[1;33m\u001b[0m\u001b[0m\n\u001b[1;32m     26\u001b[0m         \u001b[0mparams_val\u001b[0m \u001b[1;33m=\u001b[0m \u001b[0mdeepcopy\u001b[0m\u001b[1;33m(\u001b[0m\u001b[0mself\u001b[0m\u001b[1;33m.\u001b[0m\u001b[0mparams_val\u001b[0m\u001b[1;33m)\u001b[0m\u001b[1;33m\u001b[0m\u001b[0m\n",
      "\u001b[0;31mKeyError\u001b[0m: 'd_p'"
     ]
    }
   ],
   "source": [
    "dd_ps = relative_entropy_update.GetDerivative('d_p')\n",
    "dd_rho_ps = relative_entropy_update.GetDerivative('rho_p')"
   ]
  },
  {
   "cell_type": "code",
   "execution_count": 53,
   "metadata": {
    "collapsed": false
   },
   "outputs": [
    {
     "data": {
      "text/plain": [
       "(-3, 2)"
      ]
     },
     "execution_count": 53,
     "metadata": {},
     "output_type": "execute_result"
    },
    {
     "data": {
      "image/png": "[encoded data removed]",
      "text/plain": [
       "<matplotlib.figure.Figure at 0x894c198>"
      ]
     },
     "metadata": {},
     "output_type": "display_data"
    }
   ],
   "source": [
    "plt.scatter(rs, urs, c='r')\n",
    "#plt.plot(_rs, _dd_ps, c='b')\n",
    "#plt.plot(_rs, dd_rho_ps, c='g')\n",
    "plt.xlim(0.0, 5)\n",
    "plt.ylim(-3, 2)\n",
    "#plt.yscale('log')"
   ]
  },
  {
   "cell_type": "code",
   "execution_count": null,
   "metadata": {
    "collapsed": true
   },
   "outputs": [],
   "source": []
  },
  {
   "cell_type": "code",
   "execution_count": null,
   "metadata": {
    "collapsed": true
   },
   "outputs": [],
   "source": [
    "from numpy import array\n",
    "\n",
    "class WeeksChandlerAndersonFixed:\n",
    "    #load in any default parameters needed\n",
    "    def __init__(self):\n",
    "        self.num_params_opt = 0\n",
    "        self.num_params_fixed = 4\n",
    "        return None\n",
    "        \n",
    "    #this is the actual potential\n",
    "    def Potential(self, r, params_opt, params_fixed):\n",
    "        #load in the opt params\n",
    "        None\n",
    "        #load in the fixed params\n",
    "        d = params_fixed[0]                #particle diameter\n",
    "        epsilon = params_fixed[1]          #how steep the wca repulsion should be\n",
    "        alpha = params[2]\n",
    "        max_ur = params_fixed[3]           #maximum value of the potential before leveling out\n",
    "        #calculate the dimensionless potential (over k_B*T)\n",
    "        if r < d:\n",
    "            R_d = d/2.0 + d_p/2.0\n",
    "            ur0 = -1.0*rho_p*((4.0*pi/3.0)*(R_d**3)*(1.0 - (3.0/4.0)*(d/R_d) + (1.0/16.0)*(d/R_d)**3)) \n",
    "            dur0 = -1.0*rho_p*((4.0*pi/3.0)*(R_d**3)*(-1.0*(3.0/4.0)*(1.0/R_d) + (3.0/16.0)*((d/R_d)**2)*(1.0/R_d))) \n",
    "            ur = ur0 + dur0*(r - d)\n",
    "        elif d <= r and r < d + d_p:\n",
    "            R_d = d/2.0 + d_p/2.0\n",
    "            ur = -1.0*rho_p*((4.0*pi/3.0)*(R_d**3)*(1.0 - (3.0/4.0)*(r/R_d) + (1.0/16.0)*(r/R_d)**3))    \n",
    "        else:\n",
    "            ur = 0.0\n",
    "        #smooth\n",
    "        ur = 0.5*(1.0 + tanh(w*(r - d)))*ur\n",
    "        return ur\n",
    "    \n",
    "    #holds some user defined defaults that may be desirable\n",
    "    def DefaultParameters(self):\n",
    "        return (array([0.02, 0.1]), array([1.0, 12.0]))"
   ]
  },
  {
   "cell_type": "code",
   "execution_count": null,
   "metadata": {
    "collapsed": true
   },
   "outputs": [],
   "source": []
  },
  {
   "cell_type": "code",
   "execution_count": null,
   "metadata": {
    "collapsed": true
   },
   "outputs": [],
   "source": []
  },
  {
   "cell_type": "code",
   "execution_count": 187,
   "metadata": {
    "collapsed": false
   },
   "outputs": [],
   "source": [
    "class WeeksChandlerAnderson:\n",
    "    #load in any default parameters needed\n",
    "    def __init__(self):\n",
    "        self.num_params = 4\n",
    "    \n",
    "    #initialize the state\n",
    "    def SetParamsState(self, params_state):\n",
    "        self.params_state = params_state\n",
    "        if len(self.params_state) != self.num_params:\n",
    "            raise AttributeError('Wrong number of parameters for weeks chandler anderson potential')\n",
    "        return None\n",
    "        \n",
    "    #this is the actual potential\n",
    "    def Potential(self, r, params_val):\n",
    "        #load in the opt params\n",
    "        d = float(params_val['d'])                   #particle diameter\n",
    "        epsilon = float(params_val['epsilon'])       #how steep the wca repulsion should be\n",
    "        alpha = float(params_val['alpha'])           #the exponent for the wca interaction\n",
    "        max_ur = float(params_val['max_ur'])         #maximum value of the potential before leveling out\n",
    "        #calculate the dimensionless potential (over k_B*T)\n",
    "        alpha = max(0.001, alpha)\n",
    "        if r <= d*(2.0**(1.0/alpha)):\n",
    "            r = max(0.0001, r)\n",
    "            ur = 4.0*epsilon*((d/r)**(2*alpha) - (d/r)**(alpha)) + epsilon\n",
    "            if ur >= max_ur:\n",
    "                ur = max_ur\n",
    "        else:\n",
    "            ur = 0.0\n",
    "        return ur\n",
    "    \n",
    "    #holds some user defined defaults that may be desirable\n",
    "    def DefaultParameters(self):\n",
    "        return ({'d': False, 'epsilon': True, 'alpha': True, 'max_ur': False},\n",
    "                {'d': 1.0, 'epsilon': 1.0, 'alpha': 6, 'max_ur': float(1e6)})"
   ]
  },
  {
   "cell_type": "code",
   "execution_count": null,
   "metadata": {
    "collapsed": true
   },
   "outputs": [],
   "source": []
  },
  {
   "cell_type": "code",
   "execution_count": null,
   "metadata": {
    "collapsed": true
   },
   "outputs": [],
   "source": []
  },
  {
   "cell_type": "code",
   "execution_count": null,
   "metadata": {
    "collapsed": true
   },
   "outputs": [],
   "source": []
  },
  {
   "cell_type": "code",
   "execution_count": 70,
   "metadata": {
    "collapsed": false
   },
   "outputs": [],
   "source": [
    "weeks_chandler_anderson = WeeksChandlerAnderson()"
   ]
  },
  {
   "cell_type": "code",
   "execution_count": 71,
   "metadata": {
    "collapsed": true
   },
   "outputs": [],
   "source": [
    "weeks_chandler_anderson.SetParamsState({'d': False, 'epsilon': True, 'alpha': True, 'max_ur': False})"
   ]
  },
  {
   "cell_type": "code",
   "execution_count": 72,
   "metadata": {
    "collapsed": true
   },
   "outputs": [],
   "source": [
    "rs = arange(0.0, 5.0, 0.001)"
   ]
  },
  {
   "cell_type": "code",
   "execution_count": 73,
   "metadata": {
    "collapsed": false
   },
   "outputs": [],
   "source": [
    "param_vals = {'d': 1.0, 'epsilon': 1.0, 'alpha': 2, 'max_ur': float(1e6)}\n",
    "urs = [weeks_chandler_anderson.Potential(r, param_vals) for r in rs]"
   ]
  },
  {
   "cell_type": "code",
   "execution_count": 74,
   "metadata": {
    "collapsed": false
   },
   "outputs": [
    {
     "data": {
      "text/plain": [
       "[1000000.0,\n",
       " 1000000.0,\n",
       " 1000000.0,\n",
       " 1000000.0,\n",
       " 1000000.0,\n",
       " 1000000.0,\n",
       " 1000000.0,\n",
       " 1000000.0,\n",
       " 1000000.0,\n",
       " 1000000.0,\n",
       " 1000000.0,\n",
       " 1000000.0,\n",
       " 1000000.0,\n",
       " 1000000.0,\n",
       " 1000000.0,\n",
       " 1000000.0,\n",
       " 1000000.0,\n",
       " 1000000.0,\n",
       " 1000000.0,\n",
       " 1000000.0,\n",
       " 1000000.0,\n",
       " 1000000.0,\n",
       " 1000000.0,\n",
       " 1000000.0,\n",
       " 1000000.0,\n",
       " 1000000.0,\n",
       " 1000000.0,\n",
       " 1000000.0,\n",
       " 1000000.0,\n",
       " 1000000.0,\n",
       " 1000000.0,\n",
       " 1000000.0,\n",
       " 1000000.0,\n",
       " 1000000.0,\n",
       " 1000000.0,\n",
       " 1000000.0,\n",
       " 1000000.0,\n",
       " 1000000.0,\n",
       " 1000000.0,\n",
       " 1000000.0,\n",
       " 1000000.0,\n",
       " 1000000.0,\n",
       " 1000000.0,\n",
       " 1000000.0,\n",
       " 1000000.0,\n",
       " 973486.74912360904,\n",
       " 891475.08707087254,\n",
       " 817915.94157097558,\n",
       " 751785.33641975292,\n",
       " 692201.12971826771,\n",
       " 638401.0,\n",
       " 589724.20260698802,\n",
       " 545596.39231819601,\n",
       " 505516.95016831049,\n",
       " 469048.36367724743,\n",
       " 435807.29738405865,\n",
       " 405457.05997501046,\n",
       " 377701.22947136872,\n",
       " 352278.24200141092,\n",
       " 328956.78500962356,\n",
       " 307531.86419753096,\n",
       " 287821.43647619517,\n",
       " 269663.51985607255,\n",
       " 252913.70637945467,\n",
       " 237443.0166015625,\n",
       " 223136.04429116621,\n",
       " 209889.34838070994,\n",
       " 197610.05609171808,\n",
       " 186214.64686725489,\n",
       " 175627.89147863103,\n",
       " 165781.9246147438,\n",
       " 156615.43255170717,\n",
       " 148072.94025301017,\n",
       " 140104.18455991699,\n",
       " 132663.56207444292,\n",
       " 125709.64197530867,\n",
       " 119204.73539184018,\n",
       " 113114.51413381277,\n",
       " 107407.67257129101,\n",
       " 102055.62730616657,\n",
       " 97032.25,\n",
       " 92313.629340571599,\n",
       " 87877.858658605604,\n",
       " 83704.846160086425,\n",
       " 79776.1451298584,\n",
       " 76074.80179835009,\n",
       " 72585.218853334824,\n",
       " 69293.03282939161,\n",
       " 66185.003824875384,\n",
       " 63248.916184568567,\n",
       " 60473.488949855193,\n",
       " 57848.295020700047,\n",
       " 55363.688097884165,\n",
       " 53010.736582353398,\n",
       " 50781.16370332404,\n",
       " 48667.293229794137,\n",
       " 46662.000192901221,\n",
       " 44758.66611049285,\n",
       " 42951.13826149419,\n",
       " 41233.692607165824,\n",
       " 39601.0,\n",
       " 38048.095359549887,\n",
       " 36570.349528565355,\n",
       " 35163.443552974044,\n",
       " 33823.34515598193,\n",
       " 32546.287200292059,\n",
       " 31328.747953515136,\n",
       " 30167.432990591726,\n",
       " 29059.258583737428,\n",
       " 28001.33644530124,\n",
       " 26990.959702206146,\n",
       " 26025.589992502391,\n",
       " 25102.84558517285,\n",
       " 24220.490433825536,\n",
       " 23376.424083419457,\n",
       " 22568.67235680261,\n",
       " 21795.37875469579,\n",
       " 21054.796508915817,\n",
       " 20345.281234173006,\n",
       " 19665.284128768406,\n",
       " 19013.345679012353,\n",
       " 18388.089826243315,\n",
       " 17788.21855898821,\n",
       " 17212.506896114577,\n",
       " 16659.798229818272,\n",
       " 16129.0,\n",
       " 15619.079674037157,\n",
       " 15129.061008183522,\n",
       " 14658.020568847656,\n",
       " 14205.084493834222,\n",
       " 13769.42547529848,\n",
       " 13350.259947679235,\n",
       " 12946.845465254426,\n",
       " 12558.478255219488,\n",
       " 12184.490933333182,\n",
       " 11824.25037021983,\n",
       " 11477.155697369521,\n",
       " 11142.636442748541,\n",
       " 10820.150786727609,\n",
       " 10509.183929763001,\n",
       " 10209.246563931691,\n",
       " 9919.8734410312736,\n",
       " 9640.6220305142324,\n",
       " 9371.0712610386217,\n",
       " 9110.8203398872083,\n",
       " 8859.4876449388594,\n",
       " 8616.7096842723513,\n",
       " 8382.140118847401,\n",
       " 8155.4488440427485,\n",
       " 7936.3211261396773,\n",
       " 7724.4567901234586,\n",
       " 7519.5694554367938,\n",
       " 7321.385816560648,\n",
       " 7129.6449655202723,\n",
       " 6944.0977536196651,\n",
       " 6764.5061898971453,\n",
       " 6590.6428739699886,\n",
       " 6422.290461097873,\n",
       " 6259.2411574445759,\n",
       " 6101.2962436559001,\n",
       " 5948.265625,\n",
       " 5799.9674064349874,\n",
       " 5656.227491078821,\n",
       " 5516.879200658339,\n",
       " 5381.7629166090128,\n",
       " 5250.725740584744,\n",
       " 5123.6211732184947,\n",
       " 5000.3088100502837,\n",
       " 4880.654053609348,\n",
       " 4764.5278407027172,\n",
       " 4651.806384023178,\n",
       " 4542.3709272462829,\n",
       " 4436.1075128385646,\n",
       " 4332.9067618483168,\n",
       " 4232.6636649959137,\n",
       " 4135.2773844231542,\n",
       " 4040.6510655009924,\n",
       " 3948.691658131801,\n",
       " 3859.3097470171665,\n",
       " 3772.4193903941505,\n",
       " 3687.9379667733569,\n",
       " 3605.7860292400896,\n",
       " 3525.8871669062996,\n",
       " 3448.1678731255784,\n",
       " 3372.5574201064182,\n",
       " 3298.9877395805374,\n",
       " 3227.3933092031921,\n",
       " 3157.7110443812194,\n",
       " 3089.8801952422705,\n",
       " 3023.8422484752373,\n",
       " 2959.5408337873414,\n",
       " 2896.9216347379775,\n",
       " 2835.9323037229933,\n",
       " 2776.5223808958904,\n",
       " 2718.6432168244983,\n",
       " 2662.2478986928986,\n",
       " 2607.2911798690011,\n",
       " 2553.7294126681309,\n",
       " 2501.5204841523328,\n",
       " 2450.6237548139179,\n",
       " 2401.0,\n",
       " 2352.6113539426215,\n",
       " 2305.4212562663488,\n",
       " 2259.3944008520948,\n",
       " 2214.4966869424861,\n",
       " 2170.6951723801126,\n",
       " 2127.9580288758461,\n",
       " 2086.2544992097892,\n",
       " 2045.5548562725392,\n",
       " 2005.8303638592984,\n",
       " 1967.0532391339,\n",
       " 1929.1966166841105,\n",
       " 1892.2345140936279,\n",
       " 1856.1417989600247,\n",
       " 1820.8941572914921,\n",
       " 1786.4680632186551,\n",
       " 1752.8407499609555,\n",
       " 1719.9901819901497,\n",
       " 1687.8950283363356,\n",
       " 1656.5346369846739,\n",
       " 1625.8890103135038,\n",
       " 1595.9387815270379,\n",
       " 1566.6651920380955,\n",
       " 1538.0500697585126,\n",
       " 1510.0758082569764,\n",
       " 1482.7253467459232,\n",
       " 1455.9821508610614,\n",
       " 1429.830194198787,\n",
       " 1404.2539405784437,\n",
       " 1379.2383269979628,\n",
       " 1354.7687472529042,\n",
       " 1330.8310361903427,\n",
       " 1307.4114545703894,\n",
       " 1284.4966745094168,\n",
       " 1262.0737654802606,\n",
       " 1240.1301808458381,\n",
       " 1218.6537449036955,\n",
       " 1197.6326404200529,\n",
       " 1177.055396632871,\n",
       " 1156.910877704458,\n",
       " 1137.1882716049386,\n",
       " 1117.8770794088459,\n",
       " 1098.9671049878268,\n",
       " 1080.4484450832554,\n",
       " 1062.3114797432668,\n",
       " 1044.5468631094118,\n",
       " 1027.145514538789,\n",
       " 1010.0986100481535,\n",
       " 993.39757406707599,\n",
       " 977.03407148779979,\n",
       " 961.0,\n",
       " 945.28748269914149,\n",
       " 929.88886095763212,\n",
       " 914.79668754844045,\n",
       " 900.00372001128414,\n",
       " 885.50291425191938,\n",
       " 871.28741836547852,\n",
       " 857.35056667516847,\n",
       " 843.68587397803344,\n",
       " 830.28702998981646,\n",
       " 817.1478939813029,\n",
       " 804.26248959884322,\n",
       " 791.62499986205398,\n",
       " 779.2297623319995,\n",
       " 767.07126444341543,\n",
       " 755.14413899482133,\n",
       " 743.4431597906098,\n",
       " 731.96323742944185,\n",
       " 720.69941523352441,\n",
       " 709.64686531354289,\n",
       " 698.80088476425385,\n",
       " 688.15689198594146,\n",
       " 677.71042312711756,\n",
       " 667.45712864405812,\n",
       " 657.39276997291859,\n",
       " 647.51321631036126,\n",
       " 637.81444149876791,\n",
       " 628.29252101229383,\n",
       " 618.94362904013428,\n",
       " 609.76403566354566,\n",
       " 600.75010412328174,\n",
       " 591.89828817424007,\n",
       " 583.20512952424042,\n",
       " 574.66725535397325,\n",
       " 566.28137591527286,\n",
       " 558.04428220497493,\n",
       " 549.95284371173034,\n",
       " 542.00400623323844,\n",
       " 534.19478976146911,\n",
       " 526.52228643352578,\n",
       " 518.98365854589633,\n",
       " 511.57613662992412,\n",
       " 504.29701758640641,\n",
       " 497.1436628773111,\n",
       " 490.11349677268009,\n",
       " 483.20400465084782,\n",
       " 476.41273135018821,\n",
       " 469.73727957065665,\n",
       " 463.17530832346227,\n",
       " 456.72453142727005,\n",
       " 450.38271604938279,\n",
       " 444.14768129041647,\n",
       " 438.01729681103444,\n",
       " 431.98948149935478,\n",
       " 426.06220217769982,\n",
       " 420.23347234740027,\n",
       " 414.50135097041749,\n",
       " 408.86394128658549,\n",
       " 403.31938966532084,\n",
       " 397.86588449069194,\n",
       " 392.50165507876932,\n",
       " 387.22497062622762,\n",
       " 382.03413918919921,\n",
       " 376.92750669141236,\n",
       " 371.90345596069182,\n",
       " 366.96040579291724,\n",
       " 362.09681004257732,\n",
       " 357.31115673908067,\n",
       " 352.60196722801913,\n",
       " 347.96779533660072,\n",
       " 343.4072265625,\n",
       " 338.91887728540053,\n",
       " 334.50139400052399,\n",
       " 330.15345257346814,\n",
       " 325.87375751570022,\n",
       " 321.66104128006714,\n",
       " 317.51406357571653,\n",
       " 313.43161070183021,\n",
       " 309.4124948996041,\n",
       " 305.45555372191654,\n",
       " 301.55964942015532,\n",
       " 297.72366834768013,\n",
       " 293.94652037942927,\n",
       " 290.22713834717786,\n",
       " 286.56447748998789,\n",
       " 282.95751491939325,\n",
       " 279.40524909888353,\n",
       " 275.90669933726514,\n",
       " 272.46090529548661,\n",
       " 269.06692650653571,\n",
       " 265.72384190802302,\n",
       " 262.43074938708031,\n",
       " 259.18676533721612,\n",
       " 255.99102422677916,\n",
       " 252.84267817869477,\n",
       " 249.74089656114671,\n",
       " 246.68486558889015,\n",
       " 243.67378793488825,\n",
       " 240.70688235197903,\n",
       " 237.78338330428369,\n",
       " 234.90254060807982,\n",
       " 232.06361908186949,\n",
       " 229.26589820538226,\n",
       " 226.50867178726108,\n",
       " 223.79124764118546,\n",
       " 221.11294727019447,\n",
       " 218.47310555898068,\n",
       " 215.87107047393221,\n",
       " 213.30620277070585,\n",
       " 210.77787570912349,\n",
       " 208.28547477518666,\n",
       " 205.82839741001558,\n",
       " 203.40605274551785,\n",
       " 201.01786134660603,\n",
       " 198.66325495978043,\n",
       " 196.34167626790682,\n",
       " 194.05257865101694,\n",
       " 191.79542595297002,\n",
       " 189.56969225381559,\n",
       " 187.37486164770414,\n",
       " 185.21042802619411,\n",
       " 183.07589486681246,\n",
       " 180.9707750267257,\n",
       " 178.89459054138624,\n",
       " 176.84687242801994,\n",
       " 174.82716049382714,\n",
       " 172.83500314877139,\n",
       " 170.86995722283407,\n",
       " 168.93158778761784,\n",
       " 167.01946798218367,\n",
       " 165.13317884301077,\n",
       " 163.27230913797021,\n",
       " 161.43645520420932,\n",
       " 159.6252207898431,\n",
       " 157.83821689935374,\n",
       " 156.0750616426044,\n",
       " 154.33538008736983,\n",
       " 152.61880411529705,\n",
       " 150.92497228120484,\n",
       " 149.2535296756385,\n",
       " 147.60412779059413,\n",
       " 145.97642438833489,\n",
       " 144.37008337321615,\n",
       " 142.78477466644759,\n",
       " 141.22017408371363,\n",
       " 139.67596321558349,\n",
       " 138.15182931063805,\n",
       " 136.6474651612458,\n",
       " 135.16256899192251,\n",
       " 133.69684435020821,\n",
       " 132.25,\n",
       " 130.82174981727846,\n",
       " 129.41181268816962,\n",
       " 128.01991240928226,\n",
       " 126.64577759026703,\n",
       " 125.28914155854051,\n",
       " 123.94974226612206,\n",
       " 122.62732219853086,\n",
       " 121.32162828569315,\n",
       " 120.0324118148109,\n",
       " 118.75942834514314,\n",
       " 117.50243762465385,\n",
       " 116.26120350848251,\n",
       " 115.03549387919023,\n",
       " 113.82508056874175,\n",
       " 112.6297392821798,\n",
       " 111.44924952295086,\n",
       " 110.28339451984444,\n",
       " 109.13196115550528,\n",
       " 107.99473989648301,\n",
       " 106.87152472478031,\n",
       " 105.76211307086669,\n",
       " 104.66630574812066,\n",
       " 103.58390688866828,\n",
       " 102.51472388058474,\n",
       " 101.45856730642595,\n",
       " 100.41525088306079,\n",
       " 99.384591402771747,\n",
       " 98.366408675595537,\n",
       " 97.360525472874016,\n",
       " 96.366767471988013,\n",
       " 95.384963202245999,\n",
       " 94.414943991901282,\n",
       " 93.456543916271272,\n",
       " 92.5095997469342,\n",
       " 91.573950901977042,\n",
       " 90.649439397272971,\n",
       " 89.735909798761782,\n",
       " 88.833209175712994,\n",
       " 87.941187054947875,\n",
       " 87.059695375998942,\n",
       " 86.188588447185325,\n",
       " 85.327722902584483,\n",
       " 84.476957659878266,\n",
       " 83.63615387905493,\n",
       " 82.805174921947739,\n",
       " 81.983886312590585,\n",
       " 81.172155698373601,\n",
       " 80.369852811979399,\n",
       " 79.576849434084153,\n",
       " 78.793019356805374,\n",
       " 78.018238347880086,\n",
       " 77.25238411555766,\n",
       " 76.495336274191061,\n",
       " 75.746976310511201,\n",
       " 75.007187550569626,\n",
       " 74.275855127334637,\n",
       " 73.552865948926694,\n",
       " 72.838108667478878,\n",
       " 72.131473648609386,\n",
       " 71.43285294149176,\n",
       " 70.742140249511195,\n",
       " 70.059230901492754,\n",
       " 69.384021823490613,\n",
       " 68.71641151112496,\n",
       " 68.0563000024557,\n",
       " 67.403588851380718,\n",
       " 66.758181101548303,\n",
       " 66.119981260771823,\n",
       " 65.488895275936471,\n",
       " 64.86483050838774,\n",
       " 64.247695709790861,\n",
       " 63.637400998451675,\n",
       " 63.033857836089169,\n",
       " 62.436979005049444,\n",
       " 61.846678585953129,\n",
       " 61.262871935765872,\n",
       " 60.685475666283708,\n",
       " 60.114407623024306,\n",
       " 59.549586864515817,\n",
       " 58.990933641975332,\n",
       " 58.438369379367614,\n",
       " 57.891816653838148,\n",
       " 57.351199176510825,\n",
       " 56.816441773644101,\n",
       " 56.287470368137321,\n",
       " 55.764211961380752,\n",
       " 55.246594615441765,\n",
       " 54.734547435580083,\n",
       " 54.228000553086517,\n",
       " 53.726885108436527,\n",
       " 53.231133234754608,\n",
       " 52.740678041581305,\n",
       " 52.255453598937351,\n",
       " 51.775394921679386,\n",
       " 51.300437954140584,\n",
       " 50.830519555050728,\n",
       " 50.365577482730394,\n",
       " 49.905550380553414,\n",
       " 49.450377762671934,\n",
       " 49.0,\n",
       " 48.554358306448705,\n",
       " 48.113394725409734,\n",
       " 47.677052116480823,\n",
       " 47.245274142429487,\n",
       " 46.818005256389505,\n",
       " 46.395190689286004,\n",
       " 45.976776437484382,\n",
       " 45.562709250658756,\n",
       " 45.15293661987576,\n",
       " 44.747406765889139,\n",
       " 44.346068627641245,\n",
       " 43.948871850967407,\n",
       " 43.55576677749896,\n",
       " 43.166704433761495,\n",
       " 42.781636520464026,\n",
       " 42.400515401975753,\n",
       " 42.023294095986699,\n",
       " 41.649926263348483,\n",
       " 41.280366198092004,\n",
       " 40.914568817618417,\n",
       " 40.552489653060363,\n",
       " 40.194084839809676,\n",
       " 39.839311108209031,\n",
       " 39.488125774403841,\n",
       " 39.140486731351636,\n",
       " 38.796352439985824,\n",
       " 38.455681920531049,\n",
       " 38.118434743966908,\n",
       " 37.784571023637803,\n",
       " 37.454051407005458,\n",
       " 37.126837067542098,\n",
       " 36.802889696761035,\n",
       " 36.482171496382577,\n",
       " 36.164645170632461,\n",
       " 35.850273918670226,\n",
       " 35.5390214271454,\n",
       " 35.230851862878978,\n",
       " 34.925729865667691,\n",
       " 34.623620541208957,\n",
       " 34.324489454144469,\n",
       " 34.028302621219716,\n",
       " 33.73502650455768,\n",
       " 33.444628005044599,\n",
       " 33.157074455825473,\n",
       " 32.872333615907607,\n",
       " 32.59037366386994,\n",
       " 32.31116319167635,\n",
       " 32.034671198591127,\n",
       " 31.760867085194551,\n",
       " 31.489720647496753,\n",
       " 31.221202071148422,\n",
       " 30.955281925746092,\n",
       " 30.69193115923067,\n",
       " 30.43112109237731,\n",
       " 30.172823413375127,\n",
       " 29.917010172495068,\n",
       " 29.663653776844242,\n",
       " 29.412726985205467,\n",
       " 29.164202902960056,\n",
       " 28.918054977092865,\n",
       " 28.674256991277566,\n",
       " 28.432783061041341,\n",
       " 28.193607629006976,\n",
       " 27.956705460211456,\n",
       " 27.722051637499355,\n",
       " 27.489621556990009,\n",
       " 27.259390923616852,\n",
       " 27.031335746737881,\n",
       " 26.805432335815901,\n",
       " 26.581657296167357,\n",
       " 26.359987524778383,\n",
       " 26.140400206187266,\n",
       " 25.922872808431698,\n",
       " 25.707383079060101,\n",
       " 25.493909041205526,\n",
       " 25.282428989721453,\n",
       " 25.072921487377965,\n",
       " 24.865365361117643,\n",
       " 24.659739698369918,\n",
       " 24.456023843422919,\n",
       " 24.254197393851872,\n",
       " 24.054240197003018,\n",
       " 23.8561323465321,\n",
       " 23.659854178996525,\n",
       " 23.465386270500247,\n",
       " 23.272709433390517,\n",
       " 23.081804713005464,\n",
       " 22.892653384471874,\n",
       " 22.705236949552049,\n",
       " 22.519537133539234,\n",
       " 22.335535882200375,\n",
       " 22.15321535876587,\n",
       " 21.972557940965054,\n",
       " 21.793546218107032,\n",
       " 21.616162988205872,\n",
       " 21.4403912551495,\n",
       " 21.266214225911497,\n",
       " 21.093615307805123,\n",
       " 20.922578105778932,\n",
       " 20.753086419753089,\n",
       " 20.585124241995914,\n",
       " 20.418675754539837,\n",
       " 20.253725326636236,\n",
       " 20.090257512248357,\n",
       " 19.928257047581809,\n",
       " 19.767708848651999,\n",
       " 19.608598008887817,\n",
       " 19.450909796771057,\n",
       " 19.29462965351091,\n",
       " 19.139743190753094,\n",
       " 18.986236188322806,\n",
       " 18.834094592001215,\n",
       " 18.68330451133475,\n",
       " 18.533852217476706,\n",
       " 18.385724141060724,\n",
       " 18.238906870105488,\n",
       " 18.093387147950182,\n",
       " 17.949151871220291,\n",
       " 17.806188087823088,\n",
       " 17.664482994972509,\n",
       " 17.524023937242813,\n",
       " 17.384798404650596,\n",
       " 17.246794030764725,\n",
       " 17.109998590843688,\n",
       " 16.974400000000003,\n",
       " 16.839986311391215,\n",
       " 16.70674571443697,\n",
       " 16.574666533061919,\n",
       " 16.443737223963872,\n",
       " 16.313946374906912,\n",
       " 16.185282703039043,\n",
       " 16.057735053233905,\n",
       " 15.93129239645635,\n",
       " 15.805943828151266,\n",
       " 15.681678566655535,\n",
       " 15.55848595163253,\n",
       " 15.436355442528962,\n",
       " 15.315276617053577,\n",
       " 15.195239169677597,\n",
       " 15.07623291015625,\n",
       " 14.958247762071286,\n",
       " 14.841273761394104,\n",
       " 14.725301055069117,\n",
       " 14.610319899617062,\n",
       " 14.49632065975797,\n",
       " 14.383293807053505,\n",
       " 14.271229918568222,\n",
       " 14.160119675549735,\n",
       " 14.049953862127152,\n",
       " 13.940723364027864,\n",
       " 13.832419167312045,\n",
       " 13.725032357124876,\n",
       " 13.61855411646604,\n",
       " 13.512975724976387,\n",
       " 13.408288557741237,\n",
       " 13.304484084110442,\n",
       " 13.201553866534541,\n",
       " 13.099489559417163,\n",
       " 12.998282907983086,\n",
       " 12.897925747161912,\n",
       " 12.798410000487076,\n",
       " 12.699727679009975,\n",
       " 12.601870880228907,\n",
       " 12.504831787032664,\n",
       " 12.4086026666586,\n",
       " 12.313175869664827,\n",
       " 12.218543828916447,\n",
       " 12.124699058585538,\n",
       " 12.031634153164742,\n",
       " 11.939341786494156,\n",
       " 11.847814710801485,\n",
       " 11.757045755755053,\n",
       " 11.667027827529715,\n",
       " 11.577753907885221,\n",
       " 11.489217053257084,\n",
       " 11.401410393859619,\n",
       " 11.314327132800987,\n",
       " 11.227960545210182,\n",
       " 11.142303977375569,\n",
       " 11.057350845895039,\n",
       " 10.973094636837441,\n",
       " 10.88952890491519,\n",
       " 10.806647272667908,\n",
       " 10.724443429656853,\n",
       " 10.642911131670092,\n",
       " 10.562044199938134,\n",
       " 10.481836520360019,\n",
       " 10.402282042739543,\n",
       " 10.323374780031603,\n",
       " 10.245108807598452,\n",
       " 10.167478262475752,\n",
       " 10.090477342648214,\n",
       " 10.014100306334807,\n",
       " 9.9383414712832732,\n",
       " 9.863195214073885,\n",
       " 9.7886559694323001,\n",
       " 9.714718229551373,\n",
       " 9.6413765434217815,\n",
       " 9.5686255161713945,\n",
       " 9.4964598084131531,\n",
       " 9.4248741356015078,\n",
       " 9.353863267397081,\n",
       " 9.2834220270395917,\n",
       " 9.2135452907289519,\n",
       " 9.1442279870141601,\n",
       " 9.0754650961902907,\n",
       " 9.0072516497030417,\n",
       " 8.9395827295610673,\n",
       " 8.8724534677557489,\n",
       " 8.8058590456884822,\n",
       " 8.7397946936052016,\n",
       " 8.674255690038235,\n",
       " 8.6092373612551434,\n",
       " 8.5447350807147302,\n",
       " 8.4807442685298167,\n",
       " 8.4172603909369741,\n",
       " 8.3542789597729321,\n",
       " 8.291795531957554,\n",
       " 8.2298057089834877,\n",
       " 8.1683051364121297,\n",
       " 8.1072895033760819,\n",
       " 8.0467545420877293,\n",
       " 7.9866960273541263,\n",
       " 7.9271097760979341,\n",
       " 7.8679916468843381,\n",
       " 7.8093375394539537,\n",
       " 7.75114339426153,\n",
       " 7.6934051920204514,\n",
       " 7.6361189532529181,\n",
       " 7.5792807378456963,\n",
       " 7.5228866446114893,\n",
       " 7.4669328108556288,\n",
       " 7.4114154119483038,\n",
       " 7.3563306609019561,\n",
       " 7.3016748079539768,\n",
       " 7.2474441401545899,\n",
       " 7.1936349809597324,\n",
       " 7.1402436898290631,\n",
       " 7.0872666618288438,\n",
       " 7.0347003272397615,\n",
       " 6.9825411511695235,\n",
       " 6.9307856331702284,\n",
       " 6.8794303068604528,\n",
       " 6.8284717395519037,\n",
       " 6.7779065318806886,\n",
       " 6.727731317443042,\n",
       " 6.6779427624355439,\n",
       " 6.6285375652996743,\n",
       " 6.5795124563707059,\n",
       " 6.5308641975308621,\n",
       " 6.4825895818667014,\n",
       " 6.4346854333305794,\n",
       " 6.3871486064063268,\n",
       " 6.3399759857788451,\n",
       " 6.2931644860077611,\n",
       " 6.2467110512049926,\n",
       " 6.2006126547162035,\n",
       " 6.1548662988060707,\n",
       " 6.1094690143473525,\n",
       " 6.0644178605136565,\n",
       " 6.0197099244759116,\n",
       " 5.9753423211024712,\n",
       " 5.9313121926627561,\n",
       " 5.8876167085345115,\n",
       " 5.8442530649144571,\n",
       " 5.8012184845324519,\n",
       " 5.7585102163690252,\n",
       " 5.7161255353762765,\n",
       " 5.6740617422020598,\n",
       " 5.6323161629174558,\n",
       " 5.5908861487474457,\n",
       " 5.5497690758047851,\n",
       " 5.5089623448270224,\n",
       " 5.4684633809165799,\n",
       " 5.4282696332839206,\n",
       " 5.388378574993733,\n",
       " 5.3487877027140929,\n",
       " 5.3094945364685389,\n",
       " 5.2704966193910971,\n",
       " 5.2317915174841261,\n",
       " 5.1933768193790355,\n",
       " 5.1552501360997391,\n",
       " 5.1174091008289002,\n",
       " 5.0798513686769056,\n",
       " 5.0425746164534981,\n",
       " 5.0055765424420686,\n",
       " 4.9688548661765584,\n",
       " 4.9324073282209708,\n",
       " 4.8962316899513931,\n",
       " 4.8603257333405772,\n",
       " 4.8246872607449669,\n",
       " 4.7893140946941868,\n",
       " 4.7542040776830037,\n",
       " 4.7193550719655892,\n",
       " 4.6847649593522318,\n",
       " 4.6504316410083142,\n",
       " 4.6163530372556343,\n",
       " 4.5825270873759827,\n",
       " 4.5489517494169549,\n",
       " 4.515625,\n",
       " 4.4825448341306426,\n",
       " 4.4497092650108669,\n",
       " 4.4171163238536444,\n",
       " 4.3847640596995445,\n",
       " 4.3526505392354471,\n",
       " 4.3207738466153049,\n",
       " 4.2891320832829214,\n",
       " 4.2577233677967481,\n",
       " 4.2265458356566414,\n",
       " 4.1955976391326049,\n",
       " 4.1648769470954061,\n",
       " 4.1343819448491601,\n",
       " 4.1041108339657448,\n",
       " 4.0740618321210968,\n",
       " 4.0442331729333523,\n",
       " 4.0146231058027668,\n",
       " 3.9852298957534682,\n",
       " 3.9560518232769208,\n",
       " 3.9270871841772079,\n",
       " 3.8983342894179653,\n",
       " 3.869791464971061,\n",
       " 3.8414570516669606,\n",
       " 3.8133294050467281,\n",
       " 3.7854068952156839,\n",
       " 3.7576879066986724,\n",
       " 3.7301708382969636,\n",
       " 3.7028541029466808,\n",
       " 3.6757361275788476,\n",
       " 3.6488153529809386,\n",
       " 3.6220902336599714,\n",
       " 3.5955592377071026,\n",
       " 3.5692208466637192,\n",
       " 3.5430735553889727,\n",
       " 3.5171158719287972,\n",
       " 3.4913463173863502,\n",
       " 3.4657634257938605,\n",
       " 3.4403657439858941,\n",
       " 3.4151518314739793,\n",
       " 3.390120260322619,\n",
       " 3.3652696150266612,\n",
       " 3.3405984923899563,\n",
       " 3.3161055014053895,\n",
       " 3.2917892631361818,\n",
       " 3.2676484105984818,\n",
       " 3.2436815886452317,\n",
       " 3.2198874538512934,\n",
       " 3.1962646743998127,\n",
       " 3.1728119299697966,\n",
       " 3.1495279116249169,\n",
       " 3.1264113217035243,\n",
       " 3.1034608737097944,\n",
       " 3.0806752922061111,\n",
       " 3.058053312706539,\n",
       " 3.0355936815714895,\n",
       " 3.0132951559034842,\n",
       " 2.9911565034440413,\n",
       " 2.9691765024716581,\n",
       " 2.9473539417009,\n",
       " 2.9256876201825373,\n",
       " 2.9041763472047668,\n",
       " 2.8828189421954766,\n",
       " 2.8616142346255469,\n",
       " 2.8405610639131735,\n",
       " 2.8196582793292206,\n",
       " 2.798904739903552,\n",
       " 2.7782993143323695,\n",
       " 2.7578408808865396,\n",
       " 2.7375283273208497,\n",
       " 2.7173605507842566,\n",
       " 2.6973364577310761,\n",
       " 2.6774549638330827,\n",
       " 2.6577149938925606,\n",
       " 2.6381154817562367,\n",
       " 2.6186553702301607,\n",
       " 2.5993336109954175,\n",
       " 2.5801491645247845,\n",
       " 2.561101000000197,\n",
       " 2.5421880952311273,\n",
       " 2.5234094365737878,\n",
       " 2.5047640188511728,\n",
       " 2.4862508452739416,\n",
       " 2.4678689273621357,\n",
       " 2.4496172848676743,\n",
       " 2.4314949456976835,\n",
       " 2.4135009458386119,\n",
       " 2.39563432928112,\n",
       " 2.3778941479457609,\n",
       " 2.3602794616094256,\n",
       " 2.3427893378325306,\n",
       " 2.3254228518869775,\n",
       " 2.3081790866848424,\n",
       " 2.291057132707798,\n",
       " 2.2740560879372698,\n",
       " 2.2571750577852878,\n",
       " 2.2404131550260713,\n",
       " 2.223769499728304,\n",
       " 2.2072432191880882,\n",
       " 2.1908334478626097,\n",
       " 2.1745393273044593,\n",
       " 2.1583600060966317,\n",
       " 2.1422946397881795,\n",
       " 2.1263423908305388,\n",
       " 2.1105024285144722,\n",
       " 2.0947739289076859,\n",
       " 2.0791560747930564,\n",
       " 2.0636480556074774,\n",
       " 2.0482490673813594,\n",
       " 2.0329583126787005,\n",
       " 2.017775000537787,\n",
       " 2.0026983464124735,\n",
       " 1.9877275721140926,\n",
       " 1.9728619057538914,\n",
       " 1.9581005816861001,\n",
       " 1.9434428404515325,\n",
       " 1.9288879287217879,\n",
       " 1.9144350992439847,\n",
       " 1.9000836107860524,\n",
       " 1.8858327280825851,\n",
       " 1.8716817217812167,\n",
       " 1.8576298683895489,\n",
       " 1.8436764502225973,\n",
       " 1.8298207553507559,\n",
       " 1.8160620775482998,\n",
       " 1.8023997162423813,\n",
       " 1.7888329764625324,\n",
       " 1.7753611687906892,\n",
       " 1.7619836093116774,\n",
       " 1.748699619564217,\n",
       " 1.7355085264924082,\n",
       " 1.7224096623976717,\n",
       " 1.709402364891198,\n",
       " 1.696485976846839,\n",
       " 1.6836598463544794,\n",
       " 1.670923326673849,\n",
       " 1.6582757761888214,\n",
       " 1.6457165583621229,\n",
       " 1.6332450416905004,\n",
       " 1.6208605996603556,\n",
       " 1.6085626107037596,\n",
       " 1.5963504581549497,\n",
       " 1.5842235302072156,\n",
       " 1.5721812198702318,\n",
       " 1.560222924927781,\n",
       " 1.5483480478959049,\n",
       " 1.5365559959814759,\n",
       " 1.5248461810411236,\n",
       " 1.5132180195406217,\n",
       " 1.5016709325146236,\n",
       " 1.4902043455268021,\n",
       " 1.4788176886303814,\n",
       " 1.4675103963290468,\n",
       " 1.4562819075382238,\n",
       " 1.4451316655467483,\n",
       " 1.4340591179788813,\n",
       " 1.4230637167567197,\n",
       " 1.4121449180629408,\n",
       " 1.4013021823039278,\n",
       " 1.3905349740732307,\n",
       " 1.3798427621153957,\n",
       " 1.3692250192901243,\n",
       " 1.3586812225367808,\n",
       " 1.3482108528392507,\n",
       " 1.3378133951911213,\n",
       " 1.3274883385612046,\n",
       " 1.3172351758593708,\n",
       " 1.3070534039027324,\n",
       " 1.2969425233821408,\n",
       " 1.2869020388289867,\n",
       " 1.2769314585823377,\n",
       " 1.2670302947563767,\n",
       " 1.2571980632081479,\n",
       " 1.2474342835056182,\n",
       " 1.2377384788960244,\n",
       " 1.2281101762745408,\n",
       " 1.2185489061532166,\n",
       " 1.2090542026302327,\n",
       " 1.1996256033594417,\n",
       " 1.1902626495201698,\n",
       " 1.1809648857873398,\n",
       " 1.1717318603018558,\n",
       " 1.1625631246412613,\n",
       " 1.153458233790686,\n",
       " 1.1444167461140582,\n",
       " 1.1354382233255809,\n",
       " 1.1265222304614886,\n",
       " 1.1176683358520618,\n",
       " 1.1088761110938874,\n",
       " 1.1001451310224084,\n",
       " 1.0914749736847069,\n",
       " 1.0828652203125433,\n",
       " 1.0743154552956531,\n",
       " 1.0658252661552909,\n",
       " 1.0573942435180088,\n",
       " 1.0490219810896955,\n",
       " 1.0407080756298477,\n",
       " 1.0324521269260698,\n",
       " 1.0242537377688254,\n",
       " 1.0161125139264193,\n",
       " 1.0080280641202011,\n",
       " ...]"
      ]
     },
     "execution_count": 74,
     "metadata": {},
     "output_type": "execute_result"
    }
   ],
   "source": [
    "urs"
   ]
  },
  {
   "cell_type": "code",
   "execution_count": 75,
   "metadata": {
    "collapsed": true
   },
   "outputs": [],
   "source": [
    "import matplotlib.pyplot as plt\n",
    "%matplotlib inline "
   ]
  },
  {
   "cell_type": "code",
   "execution_count": 78,
   "metadata": {
    "collapsed": false
   },
   "outputs": [
    {
     "data": {
      "text/plain": [
       "(-7, 20)"
      ]
     },
     "execution_count": 78,
     "metadata": {},
     "output_type": "execute_result"
    },
    {
     "data": {
      "image/png": "[encoded data removed]",
      "text/plain": [
       "<matplotlib.figure.Figure at 0x78c1400>"
      ]
     },
     "metadata": {},
     "output_type": "display_data"
    }
   ],
   "source": [
    "plt.scatter(rs, urs, c='r')\n",
    "#plt.plot(_rs, _dalpha, c='b')\n",
    "#plt.plot(_rs, _depsilon, c='g')\n",
    "plt.xlim(0.6, 1.8)\n",
    "plt.ylim(-7, 20)\n",
    "#plt.yscale('log')"
   ]
  },
  {
   "cell_type": "code",
   "execution_count": null,
   "metadata": {
    "collapsed": true
   },
   "outputs": [],
   "source": [
    "_dalpha = relative_entropy_update.GetDerivative('alpha')\n",
    "_depsilon = relative_entropy_update.GetDerivative('epsilon')\n",
    "_rs = relative_entropy_update.r"
   ]
  },
  {
   "cell_type": "code",
   "execution_count": null,
   "metadata": {
    "collapsed": true
   },
   "outputs": [],
   "source": []
  },
  {
   "cell_type": "code",
   "execution_count": 363,
   "metadata": {
    "collapsed": true
   },
   "outputs": [],
   "source": [
    "import importlib"
   ]
  },
  {
   "cell_type": "code",
   "execution_count": 364,
   "metadata": {
    "collapsed": false
   },
   "outputs": [],
   "source": [
    "my_module2 = importlib.import_module('potentials.depletion')"
   ]
  },
  {
   "cell_type": "code",
   "execution_count": 366,
   "metadata": {
    "collapsed": false
   },
   "outputs": [
    {
     "ename": "AttributeError",
     "evalue": "Potential instance has no attribute '_'",
     "output_type": "error",
     "traceback": [
      "\u001b[0;31m---------------------------------------------------------------------------\u001b[0m",
      "\u001b[0;31mAttributeError\u001b[0m                            Traceback (most recent call last)",
      "\u001b[0;32m<ipython-input-366-2cab73950cb6>\u001b[0m in \u001b[0;36m<module>\u001b[0;34m()\u001b[0m\n\u001b[0;32m----> 1\u001b[0;31m \u001b[0mmy_module2\u001b[0m\u001b[1;33m.\u001b[0m\u001b[0mPotential\u001b[0m\u001b[1;33m(\u001b[0m\u001b[1;33m)\u001b[0m\u001b[1;33m.\u001b[0m\u001b[0m_\u001b[0m\u001b[1;33m\u001b[0m\u001b[0m\n\u001b[0m",
      "\u001b[0;31mAttributeError\u001b[0m: Potential instance has no attribute '_'"
     ]
    }
   ],
   "source": [
    "my_module2.Potential()._"
   ]
  },
  {
   "cell_type": "markdown",
   "metadata": {},
   "source": [
    "**Wrapper for potentials**"
   ]
  },
  {
   "cell_type": "code",
   "execution_count": 1,
   "metadata": {
    "collapsed": true
   },
   "outputs": [],
   "source": [
    "import sys"
   ]
  },
  {
   "cell_type": "code",
   "execution_count": 2,
   "metadata": {
    "collapsed": false
   },
   "outputs": [],
   "source": [
    "sys.path.insert(0,'../')"
   ]
  },
  {
   "cell_type": "code",
   "execution_count": 3,
   "metadata": {
    "collapsed": false
   },
   "outputs": [],
   "source": [
    "from potentials import potential_combiner"
   ]
  },
  {
   "cell_type": "code",
   "execution_count": 4,
   "metadata": {
    "collapsed": false
   },
   "outputs": [],
   "source": [
    "combined_potential = potential_combiner.Potential({'wca': 'weeks_chandler_anderson',\n",
    "                                                   'dep': 'depletion',\n",
    "                                                   'elec': 'electrostatic_dlvo'})"
   ]
  },
  {
   "cell_type": "code",
   "execution_count": 5,
   "metadata": {
    "collapsed": true
   },
   "outputs": [],
   "source": [
    "combined_potential.SetParamsState(\n",
    "{'wca__d': {'opt': False}, \n",
    "'wca__epsilon': {'opt': True, 'min': 0.2}, \n",
    "'wca__alpha': {'opt': False}, \n",
    "'wca__max_ur': {'opt': False}, \n",
    "'dep__rho_p': {'opt': True, 'min': 0.0, 'max': 9.0}, \n",
    "'dep__d_p': {'opt': True, 'min': 0.0, 'max': 1.0}, \n",
    "'dep__d': {'opt': False}, \n",
    "'dep__w': {'opt': False}, \n",
    "'elec__A': {'opt': True, 'min': 0.0},\n",
    "'elec__z': {'opt': True, 'min': 0.0, 'max': 6.0}}\n",
    ")"
   ]
  },
  {
   "cell_type": "code",
   "execution_count": 6,
   "metadata": {
    "collapsed": true
   },
   "outputs": [],
   "source": [
    "from numpy import arange"
   ]
  },
  {
   "cell_type": "code",
   "execution_count": 7,
   "metadata": {
    "collapsed": false
   },
   "outputs": [
    {
     "data": {
      "text/plain": [
       "array([  0.00000000e+00,   1.00000000e-04,   2.00000000e-04, ...,\n",
       "         4.99970000e+00,   4.99980000e+00,   4.99990000e+00])"
      ]
     },
     "execution_count": 7,
     "metadata": {},
     "output_type": "execute_result"
    }
   ],
   "source": [
    "rs = arange(0.0, 5.0, 0.0001)\n",
    "rs"
   ]
  },
  {
   "cell_type": "code",
   "execution_count": 8,
   "metadata": {
    "collapsed": false
   },
   "outputs": [
    {
     "data": {
      "text/plain": [
       "array([  1.09999950e+06,   1.00999950e+06,   1.00499950e+06, ...,\n",
       "         1.64204477e-02,   1.64192983e-02,   1.64181490e-02])"
      ]
     },
     "execution_count": 8,
     "metadata": {},
     "output_type": "execute_result"
    }
   ],
   "source": [
    "params_val = {'wca__d': 1.0, 'wca__epsilon': 1.0, 'wca__alpha': 6.0, 'wca__max_ur': float(1e6), \n",
    "              'dep__rho_p': 6.0, 'dep__d_p': 0.6, 'dep__d': 1.0, 'dep__w': 50.0, \n",
    "              'elec__A': 1.0, 'elec__z': 2.0}\n",
    "\n",
    "urs = combined_potential.Potential(rs, params_val)\n",
    "urs\n",
    "#urs = [combined_potential.Potential(r, params_val) for r in rs]"
   ]
  },
  {
   "cell_type": "code",
   "execution_count": 9,
   "metadata": {
    "collapsed": false
   },
   "outputs": [
    {
     "data": {
      "text/plain": [
       "{'dep': <potentials.depletion.Potential instance at 0x0000000005F9FC88>,\n",
       " 'elec': <potentials.electrostatic_dlvo.Potential instance at 0x0000000005F9FC08>,\n",
       " 'wca': <potentials.weeks_chandler_anderson.Potential instance at 0x0000000005A50088>}"
      ]
     },
     "execution_count": 9,
     "metadata": {},
     "output_type": "execute_result"
    }
   ],
   "source": [
    "combined_potential.potentials"
   ]
  },
  {
   "cell_type": "code",
   "execution_count": 10,
   "metadata": {
    "collapsed": false
   },
   "outputs": [
    {
     "data": {
      "text/plain": [
       "{'dep__d': {'opt': False},\n",
       " 'dep__d_p': {'max': 1.0, 'min': 0.0, 'opt': True},\n",
       " 'dep__rho_p': {'max': 9.0, 'min': 0.0, 'opt': True},\n",
       " 'dep__w': {'opt': False},\n",
       " 'elec__A': {'min': 0.0, 'opt': True},\n",
       " 'elec__z': {'max': 6.0, 'min': 0.0, 'opt': True},\n",
       " 'wca__alpha': {'opt': False},\n",
       " 'wca__d': {'opt': False},\n",
       " 'wca__epsilon': {'min': 0.2, 'opt': True},\n",
       " 'wca__max_ur': {'opt': False}}"
      ]
     },
     "execution_count": 10,
     "metadata": {},
     "output_type": "execute_result"
    }
   ],
   "source": [
    "combined_potential.params_state"
   ]
  },
  {
   "cell_type": "code",
   "execution_count": 11,
   "metadata": {
    "collapsed": true
   },
   "outputs": [],
   "source": [
    "import matplotlib.pyplot as plt\n",
    "%matplotlib inline "
   ]
  },
  {
   "cell_type": "code",
   "execution_count": 12,
   "metadata": {
    "collapsed": false
   },
   "outputs": [
    {
     "data": {
      "text/plain": [
       "(-3, 10)"
      ]
     },
     "execution_count": 12,
     "metadata": {},
     "output_type": "execute_result"
    },
    {
     "data": {
      "image/png": "[encoded data removed]",
      "text/plain": [
       "<matplotlib.figure.Figure at 0x78a15c0>"
      ]
     },
     "metadata": {},
     "output_type": "display_data"
    }
   ],
   "source": [
    "plt.scatter(rs, urs, c='r')\n",
    "plt.xlim(0.0, 5)\n",
    "plt.ylim(-3, 10)"
   ]
  },
  {
   "cell_type": "code",
   "execution_count": 13,
   "metadata": {
    "collapsed": true
   },
   "outputs": [],
   "source": [
    "from relative_entropy_update import RelativeEntropyUpdate"
   ]
  },
  {
   "cell_type": "code",
   "execution_count": 14,
   "metadata": {
    "collapsed": false
   },
   "outputs": [],
   "source": [
    "relative_entropy_update = RelativeEntropyUpdate()"
   ]
  },
  {
   "cell_type": "code",
   "execution_count": 15,
   "metadata": {
    "collapsed": false
   },
   "outputs": [],
   "source": [
    "relative_entropy_update.LoadPotential(combined_potential, params_val)"
   ]
  },
  {
   "cell_type": "code",
   "execution_count": 16,
   "metadata": {
    "collapsed": false
   },
   "outputs": [
    {
     "data": {
      "text/plain": [
       "{'dep__d': 1.0,\n",
       " 'dep__d_p': 0.6,\n",
       " 'dep__rho_p': 6.0,\n",
       " 'dep__w': 50.0,\n",
       " 'elec__A': 1.0,\n",
       " 'elec__z': 2.0,\n",
       " 'wca__alpha': 6.0,\n",
       " 'wca__d': 1.0,\n",
       " 'wca__epsilon': 1.0,\n",
       " 'wca__max_ur': 1000000.0}"
      ]
     },
     "execution_count": 16,
     "metadata": {},
     "output_type": "execute_result"
    }
   ],
   "source": [
    "relative_entropy_update.params_val"
   ]
  },
  {
   "cell_type": "code",
   "execution_count": 17,
   "metadata": {
    "collapsed": false
   },
   "outputs": [],
   "source": [
    "relative_entropy_update.LoadRadialDistFuncs('./test_data/rdf_cluster.xvg', './test_data/rdf_crystal.xvg', spacing=0.005)"
   ]
  },
  {
   "cell_type": "code",
   "execution_count": 23,
   "metadata": {
    "collapsed": false
   },
   "outputs": [
    {
     "data": {
      "text/plain": [
       "({'dep__d': 1.0,\n",
       "  'dep__d_p': 0.50409156874437766,\n",
       "  'dep__rho_p': 5.9965676468619442,\n",
       "  'dep__w': 50.0,\n",
       "  'elec__A': 1.0101369861543954,\n",
       "  'elec__z': 2.0027515288032403,\n",
       "  'wca__alpha': 6.0,\n",
       "  'wca__d': 1.0,\n",
       "  'wca__epsilon': 0.99682694283174711,\n",
       "  'wca__max_ur': 1000000.0},\n",
       " 48.297530798223058)"
      ]
     },
     "execution_count": 23,
     "metadata": {},
     "output_type": "execute_result"
    }
   ],
   "source": [
    "relative_entropy_update.CalcUpdate(learning_rate=0.002)"
   ]
  },
  {
   "cell_type": "code",
   "execution_count": 24,
   "metadata": {
    "collapsed": false
   },
   "outputs": [
    {
     "data": {
      "text/plain": [
       "({'dep__d': 1.0,\n",
       "  'dep__d_p': 0.12045784372188811,\n",
       "  'dep__rho_p': 5.9828382343097228,\n",
       "  'dep__w': 50.0,\n",
       "  'elec__A': 1.050684930771977,\n",
       "  'elec__z': 2.0137576440162013,\n",
       "  'wca__alpha': 6.0,\n",
       "  'wca__d': 1.0,\n",
       "  'wca__epsilon': 0.98413471415873577,\n",
       "  'wca__max_ur': 1000000.0},\n",
       " 48.297530798223079)"
      ]
     },
     "execution_count": 24,
     "metadata": {},
     "output_type": "execute_result"
    }
   ],
   "source": [
    "relative_entropy_update.CalcUpdate(learning_rate=0.01)"
   ]
  },
  {
   "cell_type": "code",
   "execution_count": null,
   "metadata": {
    "collapsed": true
   },
   "outputs": [],
   "source": []
  },
  {
   "cell_type": "code",
   "execution_count": null,
   "metadata": {
    "collapsed": true
   },
   "outputs": [],
   "source": []
  },
  {
   "cell_type": "code",
   "execution_count": null,
   "metadata": {
    "collapsed": true
   },
   "outputs": [],
   "source": []
  },
  {
   "cell_type": "code",
   "execution_count": 70,
   "metadata": {
    "collapsed": true
   },
   "outputs": [],
   "source": [
    "wca = WeeksChandlerAnderson({'d': False, 'epsilon': True, 'alpha': True, 'max_ur': False})"
   ]
  },
  {
   "cell_type": "code",
   "execution_count": 71,
   "metadata": {
    "collapsed": true
   },
   "outputs": [],
   "source": [
    "rs = arange(0.0, 5.0, 0.001)"
   ]
  },
  {
   "cell_type": "code",
   "execution_count": 92,
   "metadata": {
    "collapsed": true
   },
   "outputs": [],
   "source": [
    "params = {'d': 1.0, 'epsilon': 1.0, 'alpha': 12, 'max_ur': float(1e6)}\n",
    "urs = wca.Potential(rs, params)"
   ]
  },
  {
   "cell_type": "code",
   "execution_count": 93,
   "metadata": {
    "collapsed": true
   },
   "outputs": [],
   "source": [
    "import matplotlib.pyplot as plt\n",
    "%matplotlib inline "
   ]
  },
  {
   "cell_type": "code",
   "execution_count": 97,
   "metadata": {
    "collapsed": false
   },
   "outputs": [
    {
     "data": {
      "text/plain": [
       "(-0.001, 5)"
      ]
     },
     "execution_count": 97,
     "metadata": {},
     "output_type": "execute_result"
    },
    {
     "data": {
      "image/png": "[encoded data removed]",
      "text/plain": [
       "<matplotlib.figure.Figure at 0x7bc9ba8>"
      ]
     },
     "metadata": {},
     "output_type": "display_data"
    }
   ],
   "source": [
    "plt.scatter(rs, urs, c='r')\n",
    "#plt.plot(_rs, _dd_ps, c='b')\n",
    "#plt.plot(_rs, dd_rho_ps, c='g')\n",
    "plt.xlim(0.5, 1.130)\n",
    "plt.ylim(-0.001, 5)\n",
    "#plt.yscale('log')"
   ]
  },
  {
   "cell_type": "code",
   "execution_count": null,
   "metadata": {
    "collapsed": true
   },
   "outputs": [],
   "source": []
  },
  {
   "cell_type": "code",
   "execution_count": null,
   "metadata": {
    "collapsed": true
   },
   "outputs": [],
   "source": []
  },
  {
   "cell_type": "code",
   "execution_count": null,
   "metadata": {
    "collapsed": true
   },
   "outputs": [],
   "source": []
  },
  {
   "cell_type": "code",
   "execution_count": null,
   "metadata": {
    "collapsed": true
   },
   "outputs": [],
   "source": []
  },
  {
   "cell_type": "code",
   "execution_count": null,
   "metadata": {
    "collapsed": true
   },
   "outputs": [],
   "source": []
  },
  {
   "cell_type": "code",
   "execution_count": 120,
   "metadata": {
    "collapsed": true
   },
   "outputs": [],
   "source": [
    "def TestFunc(x, a):\n",
    "    return a*x**2"
   ]
  },
  {
   "cell_type": "code",
   "execution_count": 121,
   "metadata": {
    "collapsed": true
   },
   "outputs": [],
   "source": [
    "import numdifftools as nd"
   ]
  },
  {
   "cell_type": "code",
   "execution_count": 122,
   "metadata": {
    "collapsed": true
   },
   "outputs": [],
   "source": [
    "x = array([2,5,2.3,0.0,1.2])\n",
    "func = lambda a: TestFunc(x, a)"
   ]
  },
  {
   "cell_type": "code",
   "execution_count": 123,
   "metadata": {
    "collapsed": false
   },
   "outputs": [
    {
     "data": {
      "text/plain": [
       "array([ 12.  ,  75.  ,  15.87,   0.  ,   4.32])"
      ]
     },
     "execution_count": 123,
     "metadata": {},
     "output_type": "execute_result"
    }
   ],
   "source": [
    "func(3)"
   ]
  },
  {
   "cell_type": "code",
   "execution_count": 124,
   "metadata": {
    "collapsed": true
   },
   "outputs": [],
   "source": [
    "dfunc = nd.Derivative(func)"
   ]
  },
  {
   "cell_type": "code",
   "execution_count": 125,
   "metadata": {
    "collapsed": false
   },
   "outputs": [
    {
     "data": {
      "text/plain": [
       "array([  4.  ,  25.  ,   5.29,   0.  ,   1.44])"
      ]
     },
     "execution_count": 125,
     "metadata": {},
     "output_type": "execute_result"
    }
   ],
   "source": [
    "dfunc(3)"
   ]
  },
  {
   "cell_type": "code",
   "execution_count": null,
   "metadata": {
    "collapsed": true
   },
   "outputs": [],
   "source": []
  },
  {
   "cell_type": "code",
   "execution_count": 27,
   "metadata": {
    "collapsed": false
   },
   "outputs": [],
   "source": [
    "akima = Akima([0,1,2,3,4,5,6,7,8], [0,1,4,2,2,2,4,7,8])"
   ]
  },
  {
   "cell_type": "code",
   "execution_count": 35,
   "metadata": {
    "collapsed": false
   },
   "outputs": [
    {
     "data": {
      "text/plain": [
       "976.00000000000068"
      ]
     },
     "execution_count": 35,
     "metadata": {},
     "output_type": "execute_result"
    }
   ],
   "source": [
    "akima.__call__(20, extrapolate=True)*2"
   ]
  },
  {
   "cell_type": "code",
   "execution_count": 22,
   "metadata": {
    "collapsed": true
   },
   "outputs": [],
   "source": [
    "from scipy.interpolate import Akima1DInterpolator as Akima\n",
    "from numpy import cumsum\n",
    "\n",
    "#class for defining an akima spline with regard to increments between points\n",
    "class AkimaCumulative:\n",
    "    #load in the initial \n",
    "    def __init__(self, x, dy):\n",
    "        self.x = x\n",
    "        self.y = cumsum(dy[::-1])[::-1]\n",
    "        self.akima = Akima(self.x, self.y)\n",
    "        return None\n",
    "    \n",
    "    #evaluates the akima at specified x values\n",
    "    def __call__(self, x, nu=0, extrapolate=None):\n",
    "        return self.akima.__call__(x, nu=nu, extrapolate=extrapolate)"
   ]
  },
  {
   "cell_type": "code",
   "execution_count": 2,
   "metadata": {
    "collapsed": false
   },
   "outputs": [],
   "source": [
    "from numpy import array"
   ]
  },
  {
   "cell_type": "code",
   "execution_count": 3,
   "metadata": {
    "collapsed": false
   },
   "outputs": [],
   "source": [
    "akima_cumulative = AkimaCumulative([1,2,3,4,5,6], [10,8,6,4,2,0])"
   ]
  },
  {
   "cell_type": "code",
   "execution_count": 4,
   "metadata": {
    "collapsed": false
   },
   "outputs": [
    {
     "data": {
      "text/plain": [
       "array([30, 20, 12,  6,  2,  0])"
      ]
     },
     "execution_count": 4,
     "metadata": {},
     "output_type": "execute_result"
    }
   ],
   "source": [
    "akima_cumulative.y"
   ]
  },
  {
   "cell_type": "code",
   "execution_count": 5,
   "metadata": {
    "collapsed": false
   },
   "outputs": [
    {
     "data": {
      "text/plain": [
       "array([ 1.44,  4.59])"
      ]
     },
     "execution_count": 5,
     "metadata": {},
     "output_type": "execute_result"
    }
   ],
   "source": [
    "akima_cumulative.__call__([5.2,4.3])"
   ]
  },
  {
   "cell_type": "code",
   "execution_count": 108,
   "metadata": {
    "collapsed": false
   },
   "outputs": [],
   "source": []
  },
  {
   "cell_type": "code",
   "execution_count": 92,
   "metadata": {
    "collapsed": false
   },
   "outputs": [
    {
     "data": {
      "text/plain": [
       "{'0.001', '0.002'}"
      ]
     },
     "execution_count": 92,
     "metadata": {},
     "output_type": "execute_result"
    }
   ],
   "source": [
    "set({'0.001':3,'0.002':4}.keys())"
   ]
  },
  {
   "cell_type": "code",
   "execution_count": 93,
   "metadata": {
    "collapsed": false
   },
   "outputs": [
    {
     "data": {
      "text/plain": [
       "0.034"
      ]
     },
     "execution_count": 93,
     "metadata": {},
     "output_type": "execute_result"
    }
   ],
   "source": [
    "float('0.034')"
   ]
  },
  {
   "cell_type": "code",
   "execution_count": 94,
   "metadata": {
    "collapsed": true
   },
   "outputs": [],
   "source": [
    "splines = Splines()"
   ]
  },
  {
   "cell_type": "code",
   "execution_count": 96,
   "metadata": {
    "collapsed": false
   },
   "outputs": [],
   "source": [
    "splines.SetParamsState({'0.020': True, \n",
    "                        '0.010': True, \n",
    "                        '0.015': True, \n",
    "                        '0.005': True})"
   ]
  },
  {
   "cell_type": "code",
   "execution_count": 97,
   "metadata": {
    "collapsed": false
   },
   "outputs": [
    {
     "data": {
      "text/plain": [
       "{'0.005': 0, '0.010': 1, '0.015': 2, '0.020': 3}"
      ]
     },
     "execution_count": 97,
     "metadata": {},
     "output_type": "execute_result"
    }
   ],
   "source": [
    "splines.map_dict"
   ]
  },
  {
   "cell_type": "code",
   "execution_count": 98,
   "metadata": {
    "collapsed": false
   },
   "outputs": [
    {
     "data": {
      "text/plain": [
       "array([ 0.,  0.,  0.,  0.])"
      ]
     },
     "execution_count": 98,
     "metadata": {},
     "output_type": "execute_result"
    }
   ],
   "source": [
    "splines.param_vals_array"
   ]
  },
  {
   "cell_type": "code",
   "execution_count": 99,
   "metadata": {
    "collapsed": false
   },
   "outputs": [
    {
     "data": {
      "text/plain": [
       "array([ 0.005,  0.01 ,  0.015,  0.02 ])"
      ]
     },
     "execution_count": 99,
     "metadata": {},
     "output_type": "execute_result"
    }
   ],
   "source": [
    "splines.param_names_array"
   ]
  },
  {
   "cell_type": "code",
   "execution_count": 105,
   "metadata": {
    "collapsed": false
   },
   "outputs": [
    {
     "data": {
      "text/plain": [
       "array([ 5.92026933,  0.47466667])"
      ]
     },
     "execution_count": 105,
     "metadata": {},
     "output_type": "execute_result"
    }
   ],
   "source": [
    "splines.Potential(array([0.0051, 0.019]), \n",
    "                        {'0.020': 0.0, \n",
    "                         '0.010': 1.0, \n",
    "                         '0.015': 2.0, \n",
    "                         '0.005': 3.0})"
   ]
  },
  {
   "cell_type": "code",
   "execution_count": 107,
   "metadata": {
    "collapsed": false
   },
   "outputs": [
    {
     "name": "stdout",
     "output_type": "stream",
     "text": [
      "[ 3.  1.  2.  0.]\n",
      "[ 0.005  0.01   0.015  0.02 ]\n"
     ]
    }
   ],
   "source": [
    "print splines.param_vals_array\n",
    "print splines.param_names_array"
   ]
  },
  {
   "cell_type": "code",
   "execution_count": null,
   "metadata": {
    "collapsed": true
   },
   "outputs": [],
   "source": []
  },
  {
   "cell_type": "code",
   "execution_count": 1,
   "metadata": {
    "collapsed": true
   },
   "outputs": [],
   "source": [
    "import sys"
   ]
  },
  {
   "cell_type": "code",
   "execution_count": 2,
   "metadata": {
    "collapsed": true
   },
   "outputs": [],
   "source": [
    "sys.path.insert(0,'../')"
   ]
  },
  {
   "cell_type": "code",
   "execution_count": 3,
   "metadata": {
    "collapsed": true
   },
   "outputs": [],
   "source": [
    "from potentials import potential_combiner"
   ]
  },
  {
   "cell_type": "code",
   "execution_count": 4,
   "metadata": {
    "collapsed": false
   },
   "outputs": [],
   "source": [
    "combined_potential = potential_combiner.Potential([('ac', 'akima_cumulative')])"
   ]
  },
  {
   "cell_type": "code",
   "execution_count": 5,
   "metadata": {
    "collapsed": true
   },
   "outputs": [],
   "source": [
    "combined_potential.SetParamsState({'ac__0.020': True, \n",
    "                                 'ac__0.010': True, \n",
    "                                 'ac__0.015': True, \n",
    "                                 'ac__0.005': True})"
   ]
  },
  {
   "cell_type": "code",
   "execution_count": 6,
   "metadata": {
    "collapsed": true
   },
   "outputs": [],
   "source": [
    "from numpy import arange"
   ]
  },
  {
   "cell_type": "code",
   "execution_count": 7,
   "metadata": {
    "collapsed": true
   },
   "outputs": [],
   "source": [
    "rs = arange(0.0, 5.0, 0.0001)"
   ]
  },
  {
   "cell_type": "code",
   "execution_count": 24,
   "metadata": {
    "collapsed": false
   },
   "outputs": [
    {
     "name": "stdout",
     "output_type": "stream",
     "text": [
      "[(0.0, 9.0), (0.0001, 8.9399999999999995), (0.00020000000000000001, 8.8800000000000008), (0.00030000000000000003, 8.8200000000000003), (0.00040000000000000002, 8.7599999999999998), (0.00050000000000000001, 8.6999999999999993), (0.00060000000000000006, 8.6400000000000006), (0.00069999999999999999, 8.5800000000000001), (0.00080000000000000004, 8.5199999999999996), (0.00090000000000000008, 8.4600000000000009), (0.001, 8.4000000000000004), (0.0011000000000000001, 8.3399999999999999), (0.0012000000000000001, 8.2799999999999994), (0.0013000000000000002, 8.2200000000000006), (0.0014, 8.1600000000000001), (0.0015, 8.0999999999999996), (0.0016000000000000001, 8.0399999999999991), (0.0017000000000000001, 7.9800000000000004), (0.0018000000000000002, 7.9199999999999999), (0.0019, 7.8600000000000003), (0.002, 7.7999999999999998), (0.0021000000000000003, 7.7400000000000002), (0.0022000000000000001, 7.6799999999999997), (0.0023, 7.6200000000000001), (0.0024000000000000002, 7.5599999999999996), (0.0025000000000000001, 7.5), (0.0026000000000000003, 7.4399999999999995), (0.0027000000000000001, 7.3799999999999999), (0.0028, 7.3200000000000003), (0.0029000000000000002, 7.2599999999999998), (0.0030000000000000001, 7.2000000000000002), (0.0031000000000000003, 7.1399999999999997), (0.0032000000000000002, 7.0800000000000001), (0.0033, 7.0199999999999996), (0.0034000000000000002, 6.96), (0.0035000000000000001, 6.9000000000000004), (0.0036000000000000003, 6.8399999999999999), (0.0037000000000000002, 6.7800000000000002), (0.0038, 6.7199999999999998), (0.0039000000000000003, 6.6600000000000001), (0.0040000000000000001, 6.5999999999999996), (0.0041000000000000003, 6.54), (0.0042000000000000006, 6.4799999999999995), (0.0043, 6.4199999999999999), (0.0044000000000000003, 6.3599999999999994), (0.0045000000000000005, 6.2999999999999998), (0.0045999999999999999, 6.2400000000000002), (0.0047000000000000002, 6.1799999999999997), (0.0048000000000000004, 6.1200000000000001), (0.0048999999999999998, 6.0600000000000005), (0.0050000000000000001, 6.0), (0.0051000000000000004, 5.9202693333333336), (0.0052000000000000006, 5.8410880000000001), (0.0053, 5.7624719999999998), (0.0054000000000000003, 5.6844373333333333), (0.0055000000000000005, 5.6070000000000002), (0.0055999999999999999, 5.530176), (0.0057000000000000002, 5.4539813333333331), (0.0058000000000000005, 5.3784319999999992), (0.0058999999999999999, 5.3035440000000005), (0.0060000000000000001, 5.2293333333333329), (0.0061000000000000004, 5.1558159999999997), (0.0062000000000000006, 5.0830079999999995), (0.0063, 5.0109253333333337), (0.0064000000000000003, 4.9395839999999991), (0.0065000000000000006, 4.8689999999999998), (0.0066, 4.7991893333333335), (0.0067000000000000002, 4.7301679999999999), (0.0068000000000000005, 4.6619520000000003), (0.0069000000000000008, 4.5945573333333334), (0.0070000000000000001, 4.5280000000000005), (0.0071000000000000004, 4.4622960000000003), (0.0072000000000000007, 4.3974613333333323), (0.0073000000000000001, 4.3335119999999998), (0.0074000000000000003, 4.2704640000000005), (0.0075000000000000006, 4.208333333333333), (0.0076, 4.1471359999999997), (0.0077000000000000002, 4.0868880000000001), (0.0078000000000000005, 4.0276053333333337), (0.0079000000000000008, 3.9693039999999997), (0.0080000000000000002, 3.9119999999999999), (0.0080999999999999996, 3.8557093333333334), (0.0082000000000000007, 3.8004479999999998), (0.0083000000000000001, 3.746232), (0.0084000000000000012, 3.6930773333333327), (0.0085000000000000006, 3.641), (0.0086, 3.5900160000000003), (0.0087000000000000011, 3.5401413333333331), (0.0088000000000000005, 3.4913919999999994), (0.0088999999999999999, 3.4437840000000004), (0.0090000000000000011, 3.3973333333333331), (0.0091000000000000004, 3.3520560000000001), (0.0091999999999999998, 3.3079679999999998), (0.009300000000000001, 3.2650853333333334), (0.0094000000000000004, 3.2234240000000001), (0.0094999999999999998, 3.1830000000000007), (0.0096000000000000009, 3.1438293333333331), (0.0097000000000000003, 3.105928), (0.0097999999999999997, 3.069312), (0.0099000000000000008, 3.0339973333333337), (0.01, 3.0), (0.010100000000000001, 2.9674559999999994), (0.010200000000000001, 2.9364479999999999), (0.0103, 2.9069120000000002), (0.010400000000000001, 2.8787839999999996), (0.010500000000000001, 2.8519999999999999), (0.0106, 2.8264960000000001), (0.010700000000000001, 2.8022079999999998), (0.010800000000000001, 2.7790720000000002), (0.0109, 2.7570240000000004), (0.011000000000000001, 2.7359999999999998), (0.0111, 2.7159360000000001), (0.0112, 2.6967680000000001), (0.011300000000000001, 2.6784319999999999), (0.0114, 2.6608640000000001), (0.0115, 2.6439999999999997), (0.011600000000000001, 2.6277759999999999), (0.0117, 2.6121280000000002), (0.0118, 2.5969920000000002), (0.011900000000000001, 2.5823039999999997), (0.012, 2.5680000000000001), (0.012100000000000001, 2.5540159999999998), (0.012200000000000001, 2.5402879999999999), (0.0123, 2.5267520000000001), (0.012400000000000001, 2.513344), (0.012500000000000001, 2.5), (0.0126, 2.4866559999999995), (0.012700000000000001, 2.4732479999999999), (0.012800000000000001, 2.4597120000000001), (0.0129, 2.4459839999999997), (0.013000000000000001, 2.4319999999999995), (0.013100000000000001, 2.4176959999999998), (0.0132, 2.4030079999999998), (0.013300000000000001, 2.3878719999999998), (0.0134, 2.3722240000000001), (0.0135, 2.3559999999999999), (0.013600000000000001, 2.3391359999999999), (0.0137, 2.3215680000000001), (0.013800000000000002, 2.3032319999999995), (0.013900000000000001, 2.2840639999999994), (0.014, 2.2639999999999998), (0.014100000000000001, 2.2429759999999992), (0.014200000000000001, 2.2209279999999998), (0.0143, 2.1977919999999997), (0.014400000000000001, 2.1735039999999994), (0.014500000000000001, 2.1479999999999997), (0.0146, 2.1212159999999995), (0.014700000000000001, 2.0930879999999998), (0.014800000000000001, 2.0635519999999996), (0.0149, 2.0325439999999997), (0.015000000000000001, 1.9999999999999993), (0.015100000000000001, 1.9665986666666664), (0.0152, 1.9330559999999999), (0.015300000000000001, 1.8993639999999996), (0.0154, 1.8655146666666662), (0.0155, 1.8314999999999999), (0.015600000000000001, 1.7973119999999996), (0.015700000000000002, 1.7629426666666657), (0.015800000000000002, 1.7283839999999995), (0.015900000000000001, 1.6936279999999995), (0.016, 1.6586666666666665), (0.0161, 1.6234919999999999), (0.016199999999999999, 1.588096), (0.016300000000000002, 1.5524706666666659), (0.016400000000000001, 1.5166079999999995), (0.016500000000000001, 1.4804999999999997), (0.0166, 1.4441386666666667), (0.0167, 1.4075160000000004), (0.016800000000000002, 1.370623999999999), (0.016900000000000002, 1.333454666666666), (0.017000000000000001, 1.2959999999999998), (0.017100000000000001, 1.2582519999999999), (0.0172, 1.2202026666666665), (0.017299999999999999, 1.1818440000000001), (0.017400000000000002, 1.1431679999999993), (0.017500000000000002, 1.1041666666666659), (0.017600000000000001, 1.0648319999999996), (0.0177, 1.025156), (0.0178, 0.98513066666666704), (0.017899999999999999, 0.94474800000000048), (0.018000000000000002, 0.90399999999999925), (0.018100000000000002, 0.86287866666666613), (0.018200000000000001, 0.82137599999999977), (0.0183, 0.77948399999999995), (0.0184, 0.737194666666667), (0.018500000000000003, 0.69449999999999923), (0.018600000000000002, 0.6513919999999993), (0.018700000000000001, 0.60786266666666644), (0.018800000000000001, 0.56390399999999985), (0.0189, 0.51950800000000008), (0.019, 0.47466666666666713), (0.019100000000000002, 0.4293719999999992), (0.019200000000000002, 0.38361599999999951), (0.019300000000000001, 0.33739066666666645), (0.019400000000000001, 0.29068799999999995), (0.0195, 0.24350000000000044), (0.019599999999999999, 0.19581866666666725), (0.019700000000000002, 0.14763599999999918), (0.019800000000000002, 0.098943999999999643), (0.019900000000000001, 0.04973466666666651), (0.02, 2.4980018054066022e-16), (0.0201, 0.0), (0.020200000000000003, 0.0), (0.020300000000000002, 0.0), (0.020400000000000001, 0.0), (0.020500000000000001, 0.0), (0.0206, 0.0), (0.0207, 0.0), (0.020800000000000003, 0.0), (0.020900000000000002, 0.0), (0.021000000000000001, 0.0), (0.021100000000000001, 0.0), (0.0212, 0.0), (0.021299999999999999, 0.0), (0.021400000000000002, 0.0), (0.021500000000000002, 0.0), (0.021600000000000001, 0.0), (0.021700000000000001, 0.0), (0.0218, 0.0), (0.021899999999999999, 0.0), (0.022000000000000002, 0.0), (0.022100000000000002, 0.0), (0.022200000000000001, 0.0), (0.0223, 0.0), (0.0224, 0.0), (0.022500000000000003, 0.0), (0.022600000000000002, 0.0), (0.022700000000000001, 0.0), (0.022800000000000001, 0.0), (0.0229, 0.0), (0.023, 0.0), (0.023100000000000002, 0.0), (0.023200000000000002, 0.0), (0.023300000000000001, 0.0), (0.023400000000000001, 0.0), (0.0235, 0.0), (0.023599999999999999, 0.0), (0.023700000000000002, 0.0), (0.023800000000000002, 0.0), (0.023900000000000001, 0.0), (0.024, 0.0), (0.0241, 0.0), (0.024200000000000003, 0.0), (0.024300000000000002, 0.0), (0.024400000000000002, 0.0), (0.024500000000000001, 0.0), (0.0246, 0.0), (0.0247, 0.0), (0.024800000000000003, 0.0), (0.024900000000000002, 0.0), (0.025000000000000001, 0.0), (0.025100000000000001, 0.0), (0.0252, 0.0), (0.0253, 0.0), (0.025400000000000002, 0.0), (0.025500000000000002, 0.0), (0.025600000000000001, 0.0), (0.025700000000000001, 0.0), (0.0258, 0.0), (0.025900000000000003, 0.0), (0.026000000000000002, 0.0), (0.026100000000000002, 0.0), (0.026200000000000001, 0.0), (0.0263, 0.0), (0.0264, 0.0), (0.026500000000000003, 0.0), (0.026600000000000002, 0.0), (0.026700000000000002, 0.0), (0.026800000000000001, 0.0), (0.0269, 0.0), (0.027, 0.0), (0.027100000000000003, 0.0), (0.027200000000000002, 0.0), (0.027300000000000001, 0.0), (0.027400000000000001, 0.0), (0.0275, 0.0), (0.027600000000000003, 0.0), (0.027700000000000002, 0.0), (0.027800000000000002, 0.0), (0.027900000000000001, 0.0), (0.028000000000000001, 0.0), (0.0281, 0.0), (0.028200000000000003, 0.0), (0.028300000000000002, 0.0), (0.028400000000000002, 0.0), (0.028500000000000001, 0.0), (0.0286, 0.0), (0.0287, 0.0), (0.028800000000000003, 0.0), (0.028900000000000002, 0.0), (0.029000000000000001, 0.0), (0.029100000000000001, 0.0), (0.0292, 0.0), (0.029300000000000003, 0.0), (0.029400000000000003, 0.0), (0.029500000000000002, 0.0), (0.029600000000000001, 0.0), (0.029700000000000001, 0.0), (0.0298, 0.0), (0.029900000000000003, 0.0), (0.030000000000000002, 0.0), (0.030100000000000002, 0.0), (0.030200000000000001, 0.0), (0.030300000000000001, 0.0), (0.0304, 0.0), (0.030500000000000003, 0.0), (0.030600000000000002, 0.0), (0.030700000000000002, 0.0), (0.030800000000000001, 0.0), (0.0309, 0.0), (0.031, 0.0), (0.031100000000000003, 0.0), (0.031200000000000002, 0.0), (0.031300000000000001, 0.0), (0.031400000000000004, 0.0), (0.0315, 0.0), (0.031600000000000003, 0.0), (0.031699999999999999, 0.0), (0.031800000000000002, 0.0), (0.031900000000000005, 0.0), (0.032000000000000001, 0.0), (0.032100000000000004, 0.0), (0.032199999999999999, 0.0), (0.032300000000000002, 0.0), (0.032399999999999998, 0.0), (0.032500000000000001, 0.0), (0.032600000000000004, 0.0), (0.0327, 0.0), (0.032800000000000003, 0.0), (0.032899999999999999, 0.0), (0.033000000000000002, 0.0), (0.033100000000000004, 0.0), (0.0332, 0.0), (0.033300000000000003, 0.0), (0.033399999999999999, 0.0), (0.033500000000000002, 0.0), (0.033600000000000005, 0.0), (0.033700000000000001, 0.0), (0.033800000000000004, 0.0), (0.0339, 0.0), (0.034000000000000002, 0.0), (0.034099999999999998, 0.0), (0.034200000000000001, 0.0), (0.034300000000000004, 0.0), (0.0344, 0.0), (0.034500000000000003, 0.0), (0.034599999999999999, 0.0), (0.034700000000000002, 0.0), (0.034800000000000005, 0.0), (0.0349, 0.0), (0.035000000000000003, 0.0), (0.035099999999999999, 0.0), (0.035200000000000002, 0.0), (0.035300000000000005, 0.0), (0.035400000000000001, 0.0), (0.035500000000000004, 0.0), (0.0356, 0.0), (0.035700000000000003, 0.0), (0.035799999999999998, 0.0), (0.035900000000000001, 0.0), (0.036000000000000004, 0.0), (0.0361, 0.0), (0.036200000000000003, 0.0), (0.036299999999999999, 0.0), (0.036400000000000002, 0.0), (0.036500000000000005, 0.0), (0.036600000000000001, 0.0), (0.036700000000000003, 0.0), (0.036799999999999999, 0.0), (0.036900000000000002, 0.0), (0.037000000000000005, 0.0), (0.037100000000000001, 0.0), (0.037200000000000004, 0.0), (0.0373, 0.0), (0.037400000000000003, 0.0), (0.037499999999999999, 0.0), (0.037600000000000001, 0.0), (0.037700000000000004, 0.0), (0.0378, 0.0), (0.037900000000000003, 0.0), (0.037999999999999999, 0.0), (0.038100000000000002, 0.0), (0.038200000000000005, 0.0), (0.038300000000000001, 0.0), (0.038400000000000004, 0.0), (0.0385, 0.0), (0.038600000000000002, 0.0), (0.038700000000000005, 0.0), (0.038800000000000001, 0.0), (0.038900000000000004, 0.0), (0.039, 0.0), (0.039100000000000003, 0.0), (0.039199999999999999, 0.0), (0.039300000000000002, 0.0), (0.039400000000000004, 0.0), (0.0395, 0.0), (0.039600000000000003, 0.0), (0.039699999999999999, 0.0), (0.039800000000000002, 0.0), (0.039900000000000005, 0.0), (0.040000000000000001, 0.0), (0.040100000000000004, 0.0), (0.0402, 0.0), (0.040300000000000002, 0.0), (0.040400000000000005, 0.0), (0.040500000000000001, 0.0), (0.040600000000000004, 0.0), (0.0407, 0.0), (0.040800000000000003, 0.0), (0.040899999999999999, 0.0), (0.041000000000000002, 0.0), (0.041100000000000005, 0.0), (0.041200000000000001, 0.0), (0.041300000000000003, 0.0), (0.041399999999999999, 0.0), (0.041500000000000002, 0.0), (0.041600000000000005, 0.0), (0.041700000000000001, 0.0), (0.041800000000000004, 0.0), (0.0419, 0.0), (0.042000000000000003, 0.0), (0.042100000000000005, 0.0), (0.042200000000000001, 0.0), (0.042300000000000004, 0.0), (0.0424, 0.0), (0.042500000000000003, 0.0), (0.042599999999999999, 0.0), (0.042700000000000002, 0.0), (0.042800000000000005, 0.0), (0.042900000000000001, 0.0), (0.043000000000000003, 0.0), (0.043099999999999999, 0.0), (0.043200000000000002, 0.0), (0.043300000000000005, 0.0), (0.043400000000000001, 0.0), (0.043500000000000004, 0.0), (0.0436, 0.0), (0.043700000000000003, 0.0), (0.043799999999999999, 0.0), (0.043900000000000002, 0.0), (0.044000000000000004, 0.0), (0.0441, 0.0), (0.044200000000000003, 0.0), (0.044299999999999999, 0.0), (0.044400000000000002, 0.0), (0.044500000000000005, 0.0), (0.044600000000000001, 0.0), (0.044700000000000004, 0.0), (0.0448, 0.0), (0.044900000000000002, 0.0), (0.045000000000000005, 0.0), (0.045100000000000001, 0.0), (0.045200000000000004, 0.0), (0.0453, 0.0), (0.045400000000000003, 0.0), (0.045499999999999999, 0.0), (0.045600000000000002, 0.0), (0.045700000000000005, 0.0), (0.0458, 0.0), (0.045900000000000003, 0.0), (0.045999999999999999, 0.0), (0.046100000000000002, 0.0), (0.046200000000000005, 0.0), (0.046300000000000001, 0.0), (0.046400000000000004, 0.0), (0.0465, 0.0), (0.046600000000000003, 0.0), (0.046700000000000005, 0.0), (0.046800000000000001, 0.0), (0.046900000000000004, 0.0), (0.047, 0.0), (0.047100000000000003, 0.0), (0.047199999999999999, 0.0), (0.047300000000000002, 0.0), (0.047400000000000005, 0.0), (0.047500000000000001, 0.0), (0.047600000000000003, 0.0), (0.047699999999999999, 0.0), (0.047800000000000002, 0.0), (0.047900000000000005, 0.0), (0.048000000000000001, 0.0), (0.048100000000000004, 0.0), (0.0482, 0.0), (0.048300000000000003, 0.0), (0.048400000000000006, 0.0), (0.048500000000000001, 0.0), (0.048600000000000004, 0.0), (0.0487, 0.0), (0.048800000000000003, 0.0), (0.048899999999999999, 0.0), (0.049000000000000002, 0.0), (0.049100000000000005, 0.0), (0.049200000000000001, 0.0), (0.049300000000000004, 0.0), (0.049399999999999999, 0.0), (0.049500000000000002, 0.0), (0.049600000000000005, 0.0), (0.049700000000000001, 0.0), (0.049800000000000004, 0.0), (0.0499, 0.0), (0.050000000000000003, 0.0), (0.050100000000000006, 0.0), (0.050200000000000002, 0.0), (0.050300000000000004, 0.0), (0.0504, 0.0), (0.050500000000000003, 0.0), (0.050599999999999999, 0.0), (0.050700000000000002, 0.0), (0.050800000000000005, 0.0), (0.050900000000000001, 0.0), (0.051000000000000004, 0.0), (0.0511, 0.0), (0.051200000000000002, 0.0), (0.051300000000000005, 0.0), (0.051400000000000001, 0.0), (0.051500000000000004, 0.0), (0.0516, 0.0), (0.051700000000000003, 0.0), (0.051800000000000006, 0.0), (0.051900000000000002, 0.0), (0.052000000000000005, 0.0), (0.0521, 0.0), (0.052200000000000003, 0.0), (0.052299999999999999, 0.0), (0.052400000000000002, 0.0), (0.052500000000000005, 0.0), (0.052600000000000001, 0.0), (0.052700000000000004, 0.0), (0.0528, 0.0), (0.052900000000000003, 0.0), (0.053000000000000005, 0.0), (0.053100000000000001, 0.0), (0.053200000000000004, 0.0), (0.0533, 0.0), (0.053400000000000003, 0.0), (0.053500000000000006, 0.0), (0.053600000000000002, 0.0), (0.053700000000000005, 0.0), (0.053800000000000001, 0.0), (0.053900000000000003, 0.0), (0.053999999999999999, 0.0), (0.054100000000000002, 0.0), (0.054200000000000005, 0.0), (0.054300000000000001, 0.0), (0.054400000000000004, 0.0), (0.0545, 0.0), (0.054600000000000003, 0.0), (0.054700000000000006, 0.0), (0.054800000000000001, 0.0), (0.054900000000000004, 0.0), (0.055, 0.0), (0.055100000000000003, 0.0), (0.055200000000000006, 0.0), (0.055300000000000002, 0.0), (0.055400000000000005, 0.0), (0.055500000000000001, 0.0), (0.055600000000000004, 0.0), (0.0557, 0.0), (0.055800000000000002, 0.0), (0.055900000000000005, 0.0), (0.056000000000000001, 0.0), (0.056100000000000004, 0.0), (0.0562, 0.0), (0.056300000000000003, 0.0), (0.056400000000000006, 0.0), (0.056500000000000002, 0.0), (0.056600000000000004, 0.0), (0.0567, 0.0), (0.056800000000000003, 0.0), (0.056900000000000006, 0.0), (0.057000000000000002, 0.0), (0.057100000000000005, 0.0), (0.057200000000000001, 0.0), (0.057300000000000004, 0.0), (0.0574, 0.0), (0.057500000000000002, 0.0), (0.057600000000000005, 0.0), (0.057700000000000001, 0.0), (0.057800000000000004, 0.0), (0.0579, 0.0), (0.058000000000000003, 0.0), (0.058100000000000006, 0.0), (0.058200000000000002, 0.0), (0.058300000000000005, 0.0), (0.058400000000000001, 0.0), (0.058500000000000003, 0.0), (0.058600000000000006, 0.0), (0.058700000000000002, 0.0), (0.058800000000000005, 0.0), (0.058900000000000001, 0.0), (0.059000000000000004, 0.0), (0.0591, 0.0), (0.059200000000000003, 0.0), (0.059300000000000005, 0.0), (0.059400000000000001, 0.0), (0.059500000000000004, 0.0), (0.0596, 0.0), (0.059700000000000003, 0.0), (0.059800000000000006, 0.0), (0.059900000000000002, 0.0), (0.060000000000000005, 0.0), (0.060100000000000001, 0.0), (0.060200000000000004, 0.0), (0.060299999999999999, 0.0), (0.060400000000000002, 0.0), (0.060500000000000005, 0.0), (0.060600000000000001, 0.0), (0.060700000000000004, 0.0), (0.0608, 0.0), (0.060900000000000003, 0.0), (0.061000000000000006, 0.0), (0.061100000000000002, 0.0), (0.061200000000000004, 0.0), (0.0613, 0.0), (0.061400000000000003, 0.0), (0.061500000000000006, 0.0), (0.061600000000000002, 0.0), (0.061700000000000005, 0.0), (0.061800000000000001, 0.0), (0.061900000000000004, 0.0), (0.062, 0.0), (0.062100000000000002, 0.0), (0.062200000000000005, 0.0), (0.062300000000000001, 0.0), (0.062400000000000004, 0.0), (0.0625, 0.0), (0.062600000000000003, 0.0), (0.062700000000000006, 0.0), (0.062800000000000009, 0.0), (0.062899999999999998, 0.0), (0.063, 0.0), (0.063100000000000003, 0.0), (0.063200000000000006, 0.0), (0.063300000000000009, 0.0), (0.063399999999999998, 0.0), (0.063500000000000001, 0.0), (0.063600000000000004, 0.0), (0.063700000000000007, 0.0), (0.063800000000000009, 0.0), (0.063899999999999998, 0.0), (0.064000000000000001, 0.0), (0.064100000000000004, 0.0), (0.064200000000000007, 0.0), (0.06430000000000001, 0.0), (0.064399999999999999, 0.0), (0.064500000000000002, 0.0), (0.064600000000000005, 0.0), (0.064700000000000008, 0.0), (0.064799999999999996, 0.0), (0.064899999999999999, 0.0), (0.065000000000000002, 0.0), (0.065100000000000005, 0.0), (0.065200000000000008, 0.0), (0.065299999999999997, 0.0), (0.0654, 0.0), (0.065500000000000003, 0.0), (0.065600000000000006, 0.0), (0.065700000000000008, 0.0), (0.065799999999999997, 0.0), (0.0659, 0.0), (0.066000000000000003, 0.0), (0.066100000000000006, 0.0), (0.066200000000000009, 0.0), (0.066299999999999998, 0.0), (0.066400000000000001, 0.0), (0.066500000000000004, 0.0), (0.066600000000000006, 0.0), (0.066700000000000009, 0.0), (0.066799999999999998, 0.0), (0.066900000000000001, 0.0), (0.067000000000000004, 0.0), (0.067100000000000007, 0.0), (0.06720000000000001, 0.0), (0.067299999999999999, 0.0), (0.067400000000000002, 0.0), (0.067500000000000004, 0.0), (0.067600000000000007, 0.0), (0.06770000000000001, 0.0), (0.067799999999999999, 0.0), (0.067900000000000002, 0.0), (0.068000000000000005, 0.0), (0.068100000000000008, 0.0), (0.068199999999999997, 0.0), (0.0683, 0.0), (0.068400000000000002, 0.0), (0.068500000000000005, 0.0), (0.068600000000000008, 0.0), (0.068699999999999997, 0.0), (0.0688, 0.0), (0.068900000000000003, 0.0), (0.069000000000000006, 0.0), (0.069100000000000009, 0.0), (0.069199999999999998, 0.0), (0.0693, 0.0), (0.069400000000000003, 0.0), (0.069500000000000006, 0.0), (0.069600000000000009, 0.0), (0.069699999999999998, 0.0), (0.069800000000000001, 0.0), (0.069900000000000004, 0.0), (0.070000000000000007, 0.0), (0.07010000000000001, 0.0), (0.070199999999999999, 0.0), (0.070300000000000001, 0.0), (0.070400000000000004, 0.0), (0.070500000000000007, 0.0), (0.07060000000000001, 0.0), (0.070699999999999999, 0.0), (0.070800000000000002, 0.0), (0.070900000000000005, 0.0), (0.071000000000000008, 0.0), (0.071099999999999997, 0.0), (0.071199999999999999, 0.0), (0.071300000000000002, 0.0), (0.071400000000000005, 0.0), (0.071500000000000008, 0.0), (0.071599999999999997, 0.0), (0.0717, 0.0), (0.071800000000000003, 0.0), (0.071900000000000006, 0.0), (0.072000000000000008, 0.0), (0.072099999999999997, 0.0), (0.0722, 0.0), (0.072300000000000003, 0.0), (0.072400000000000006, 0.0), (0.072500000000000009, 0.0), (0.072599999999999998, 0.0), (0.072700000000000001, 0.0), (0.072800000000000004, 0.0), (0.072900000000000006, 0.0), (0.073000000000000009, 0.0), (0.073099999999999998, 0.0), (0.073200000000000001, 0.0), (0.073300000000000004, 0.0), (0.073400000000000007, 0.0), (0.07350000000000001, 0.0), (0.073599999999999999, 0.0), (0.073700000000000002, 0.0), (0.073800000000000004, 0.0), (0.073900000000000007, 0.0), (0.07400000000000001, 0.0), (0.074099999999999999, 0.0), (0.074200000000000002, 0.0), (0.074300000000000005, 0.0), (0.074400000000000008, 0.0), (0.074499999999999997, 0.0), (0.0746, 0.0), (0.074700000000000003, 0.0), (0.074800000000000005, 0.0), (0.074900000000000008, 0.0), (0.074999999999999997, 0.0), (0.0751, 0.0), (0.075200000000000003, 0.0), (0.075300000000000006, 0.0), (0.075400000000000009, 0.0), (0.075499999999999998, 0.0), (0.075600000000000001, 0.0), (0.075700000000000003, 0.0), (0.075800000000000006, 0.0), (0.075900000000000009, 0.0), (0.075999999999999998, 0.0), (0.076100000000000001, 0.0), (0.076200000000000004, 0.0), (0.076300000000000007, 0.0), (0.07640000000000001, 0.0), (0.076499999999999999, 0.0), (0.076600000000000001, 0.0), (0.076700000000000004, 0.0), (0.076800000000000007, 0.0), (0.07690000000000001, 0.0), (0.076999999999999999, 0.0), (0.077100000000000002, 0.0), (0.077200000000000005, 0.0), (0.077300000000000008, 0.0), (0.07740000000000001, 0.0), (0.077499999999999999, 0.0), (0.077600000000000002, 0.0), (0.077700000000000005, 0.0), (0.077800000000000008, 0.0), (0.077899999999999997, 0.0), (0.078, 0.0), (0.078100000000000003, 0.0), (0.078200000000000006, 0.0), (0.078300000000000008, 0.0), (0.078399999999999997, 0.0), (0.0785, 0.0), (0.078600000000000003, 0.0), (0.078700000000000006, 0.0), (0.078800000000000009, 0.0), (0.078899999999999998, 0.0), (0.079000000000000001, 0.0), (0.079100000000000004, 0.0), (0.079200000000000007, 0.0), (0.079300000000000009, 0.0), (0.079399999999999998, 0.0), (0.079500000000000001, 0.0), (0.079600000000000004, 0.0), (0.079700000000000007, 0.0), (0.07980000000000001, 0.0), (0.079899999999999999, 0.0), (0.080000000000000002, 0.0), (0.080100000000000005, 0.0), (0.080200000000000007, 0.0), (0.08030000000000001, 0.0), (0.080399999999999999, 0.0), (0.080500000000000002, 0.0), (0.080600000000000005, 0.0), (0.080700000000000008, 0.0), (0.080800000000000011, 0.0), (0.0809, 0.0), (0.081000000000000003, 0.0), (0.081100000000000005, 0.0), (0.081200000000000008, 0.0), (0.081299999999999997, 0.0), (0.0814, 0.0), (0.081500000000000003, 0.0), (0.081600000000000006, 0.0), (0.081700000000000009, 0.0), (0.081799999999999998, 0.0), (0.081900000000000001, 0.0), (0.082000000000000003, 0.0), (0.082100000000000006, 0.0), (0.082200000000000009, 0.0), (0.082299999999999998, 0.0), (0.082400000000000001, 0.0), (0.082500000000000004, 0.0), (0.082600000000000007, 0.0), (0.08270000000000001, 0.0), (0.082799999999999999, 0.0), (0.082900000000000001, 0.0), (0.083000000000000004, 0.0), (0.083100000000000007, 0.0), (0.08320000000000001, 0.0), (0.083299999999999999, 0.0), (0.083400000000000002, 0.0), (0.083500000000000005, 0.0), (0.083600000000000008, 0.0), (0.083700000000000011, 0.0), (0.083799999999999999, 0.0), (0.083900000000000002, 0.0), (0.084000000000000005, 0.0), (0.084100000000000008, 0.0), (0.084200000000000011, 0.0), (0.0843, 0.0), (0.084400000000000003, 0.0), (0.084500000000000006, 0.0), (0.084600000000000009, 0.0), (0.084699999999999998, 0.0), (0.0848, 0.0), (0.084900000000000003, 0.0), (0.085000000000000006, 0.0), (0.085100000000000009, 0.0), (0.085199999999999998, 0.0), (0.085300000000000001, 0.0), (0.085400000000000004, 0.0), (0.085500000000000007, 0.0), (0.085600000000000009, 0.0), (0.085699999999999998, 0.0), (0.085800000000000001, 0.0), (0.085900000000000004, 0.0), (0.086000000000000007, 0.0), (0.08610000000000001, 0.0), (0.086199999999999999, 0.0), (0.086300000000000002, 0.0), (0.086400000000000005, 0.0), (0.086500000000000007, 0.0), (0.08660000000000001, 0.0), (0.086699999999999999, 0.0), (0.086800000000000002, 0.0), (0.086900000000000005, 0.0), (0.087000000000000008, 0.0), (0.087100000000000011, 0.0), (0.0872, 0.0), (0.087300000000000003, 0.0), (0.087400000000000005, 0.0), (0.087500000000000008, 0.0), (0.087599999999999997, 0.0), (0.0877, 0.0), (0.087800000000000003, 0.0), (0.087900000000000006, 0.0), (0.088000000000000009, 0.0), (0.088099999999999998, 0.0), (0.088200000000000001, 0.0), (0.088300000000000003, 0.0), (0.088400000000000006, 0.0), (0.088500000000000009, 0.0), (0.088599999999999998, 0.0), (0.088700000000000001, 0.0), (0.088800000000000004, 0.0), (0.088900000000000007, 0.0), (0.08900000000000001, 0.0), (0.089099999999999999, 0.0), (0.089200000000000002, 0.0), (0.089300000000000004, 0.0), (0.089400000000000007, 0.0), (0.08950000000000001, 0.0), (0.089599999999999999, 0.0), (0.089700000000000002, 0.0), (0.089800000000000005, 0.0), (0.089900000000000008, 0.0), (0.090000000000000011, 0.0), (0.0901, 0.0), (0.090200000000000002, 0.0), (0.090300000000000005, 0.0), (0.090400000000000008, 0.0), (0.090500000000000011, 0.0), (0.0906, 0.0), (0.090700000000000003, 0.0), (0.090800000000000006, 0.0), (0.090900000000000009, 0.0), (0.090999999999999998, 0.0), (0.0911, 0.0), (0.091200000000000003, 0.0), (0.091300000000000006, 0.0), (0.091400000000000009, 0.0), (0.091499999999999998, 0.0), (0.091600000000000001, 0.0), (0.091700000000000004, 0.0), (0.091800000000000007, 0.0), (0.091900000000000009, 0.0), (0.091999999999999998, 0.0), (0.092100000000000001, 0.0), (0.092200000000000004, 0.0), (0.092300000000000007, 0.0), (0.09240000000000001, 0.0), (0.092499999999999999, 0.0), (0.092600000000000002, 0.0), (0.092700000000000005, 0.0), (0.092800000000000007, 0.0), (0.09290000000000001, 0.0), (0.092999999999999999, 0.0), (0.093100000000000002, 0.0), (0.093200000000000005, 0.0), (0.093300000000000008, 0.0), (0.093400000000000011, 0.0), (0.0935, 0.0), (0.093600000000000003, 0.0), (0.093700000000000006, 0.0), (0.093800000000000008, 0.0), (0.093900000000000011, 0.0), (0.094, 0.0), (0.094100000000000003, 0.0), (0.094200000000000006, 0.0), (0.094300000000000009, 0.0), (0.094399999999999998, 0.0), (0.094500000000000001, 0.0), (0.094600000000000004, 0.0), (0.094700000000000006, 0.0), (0.094800000000000009, 0.0), (0.094899999999999998, 0.0), (0.095000000000000001, 0.0), (0.095100000000000004, 0.0), (0.095200000000000007, 0.0), (0.09530000000000001, 0.0), (0.095399999999999999, 0.0), (0.095500000000000002, 0.0), (0.095600000000000004, 0.0), (0.095700000000000007, 0.0), (0.09580000000000001, 0.0), (0.095899999999999999, 0.0), (0.096000000000000002, 0.0), (0.096100000000000005, 0.0), (0.096200000000000008, 0.0), (0.096300000000000011, 0.0), (0.0964, 0.0), (0.096500000000000002, 0.0), (0.096600000000000005, 0.0), (0.096700000000000008, 0.0), (0.096800000000000011, 0.0), (0.0969, 0.0), (0.097000000000000003, 0.0), (0.097100000000000006, 0.0), (0.097200000000000009, 0.0), (0.097300000000000011, 0.0), (0.0974, 0.0), (0.097500000000000003, 0.0), (0.097600000000000006, 0.0), (0.097700000000000009, 0.0), (0.097799999999999998, 0.0), (0.097900000000000001, 0.0), (0.098000000000000004, 0.0), (0.098100000000000007, 0.0), (0.09820000000000001, 0.0), (0.098299999999999998, 0.0), (0.098400000000000001, 0.0), (0.098500000000000004, 0.0), (0.098600000000000007, 0.0), (0.09870000000000001, 0.0), (0.098799999999999999, 0.0), (0.098900000000000002, 0.0), (0.099000000000000005, 0.0), (0.099100000000000008, 0.0), (0.09920000000000001, 0.0), (0.099299999999999999, 0.0), (0.099400000000000002, 0.0), (0.099500000000000005, 0.0), (0.099600000000000008, 0.0), (0.099700000000000011, 0.0), (0.0998, 0.0), (0.099900000000000003, 0.0)]\n"
     ]
    }
   ],
   "source": [
    "params_val = {'ac__0.020': 0.0, \n",
    "            'ac__0.010': 1.0, \n",
    "            'ac__0.015': 2.0, \n",
    "            'ac__0.005': 3.0}\n",
    "\n",
    "urs = combined_potential.Potential(rs, params_val)\n",
    "print zip(rs,urs)[:1000]"
   ]
  },
  {
   "cell_type": "code",
   "execution_count": 16,
   "metadata": {
    "collapsed": true
   },
   "outputs": [],
   "source": [
    "import matplotlib.pyplot as plt\n",
    "%matplotlib inline "
   ]
  },
  {
   "cell_type": "code",
   "execution_count": 22,
   "metadata": {
    "collapsed": false
   },
   "outputs": [
    {
     "data": {
      "text/plain": [
       "(0, 10)"
      ]
     },
     "execution_count": 22,
     "metadata": {},
     "output_type": "execute_result"
    },
    {
     "data": {
      "image/png": "[encoded data removed]",
      "text/plain": [
       "<matplotlib.figure.Figure at 0xa29b7b8>"
      ]
     },
     "metadata": {},
     "output_type": "display_data"
    }
   ],
   "source": [
    "plt.scatter(rs, urs, c='r')\n",
    "#plt.plot(_rs, _dd_ps, c='b')\n",
    "#plt.plot(_rs, dd_rho_ps, c='g')\n",
    "plt.xlim(0, 0.025)\n",
    "plt.ylim(0, 10)"
   ]
  },
  {
   "cell_type": "code",
   "execution_count": null,
   "metadata": {
    "collapsed": true
   },
   "outputs": [],
   "source": []
  },
  {
   "cell_type": "code",
   "execution_count": 28,
   "metadata": {
    "collapsed": false
   },
   "outputs": [
    {
     "data": {
      "text/plain": [
       "{'hello', 'ksdjk'}"
      ]
     },
     "execution_count": 28,
     "metadata": {},
     "output_type": "execute_result"
    }
   ],
   "source": [
    "set({'hello':987, 'ksdjk':90}.keys())"
   ]
  },
  {
   "cell_type": "code",
   "execution_count": null,
   "metadata": {
    "collapsed": true
   },
   "outputs": [],
   "source": []
  },
  {
   "cell_type": "code",
   "execution_count": null,
   "metadata": {
    "collapsed": true
   },
   "outputs": [],
   "source": []
  },
  {
   "cell_type": "code",
   "execution_count": 94,
   "metadata": {
    "collapsed": true
   },
   "outputs": [],
   "source": [
    "from importlib import import_module\n",
    "import re\n",
    "\n",
    "class PotentialCombiner:\n",
    "    #load in a list of potentials (names)\n",
    "    def __init__(self, potential_specs):\n",
    "        #make sure no whitespace\n",
    "        potential_specs = [(potential_id_name.strip(), potential_type.strip()) \n",
    "                           for potential_id_name, potential_type in potential_specs]\n",
    "        #initial checks on data\n",
    "        self.potential_id_names = zip(*potential_specs)[0]\n",
    "        for potential_id_name in self.potential_id_names:\n",
    "            if re.search(r'\\_', potential_id_name):\n",
    "                raise AttributeError('Cannot have underscores in potential id name')\n",
    "        if len(set(self.potential_id_names)) != len(self.potential_id_names):\n",
    "            raise AttributeError('Each potential id name must be unique')\n",
    "        else:\n",
    "            self.potential_id_names = set(self.potential_id_names)\n",
    "        #load in the modules\n",
    "        self.potentials = {}   \n",
    "        import_potential = lambda x: import_module(x)\n",
    "        for potential_id_name, potential_type in potential_specs:\n",
    "            self.potentials[potential_id_name] = import_potential(('potentials.' + potential_type)).Potential() \n",
    "        return None\n",
    "    \n",
    "    #separates the parameters for funneling to individual potentials\n",
    "    def Separate(self, params):\n",
    "        params_separated = {}\n",
    "        for param in params:\n",
    "            potential_id_name = self.param_map[param]['potential_id_name']\n",
    "            potential_param = self.param_map[param]['potential_param']\n",
    "            if potential_id_name not in params_separated:\n",
    "                params_separated[potential_id_name] = {}\n",
    "            params_separated[potential_id_name][potential_param] = params[param]\n",
    "        return params_separated\n",
    "        \n",
    "    #initialize the state\n",
    "    def SetParamsState(self, params_state):\n",
    "        self.params_state = params_state\n",
    "        #go through and create a hash mapping to the individual potential to use now and later\n",
    "        self.param_map = {}\n",
    "        for param in params_state:\n",
    "            match = re.match(r'\\s*([a-z0-9]+)\\_\\_([^\\s]+)', param)\n",
    "            potential_id_name = match.group(1)\n",
    "            potential_param = match.group(2)\n",
    "            if potential_id_name in self.potential_id_names:\n",
    "                self.param_map[param] = {'potential_id_name': potential_id_name, 'potential_param': potential_param}\n",
    "            else:\n",
    "                raise AttributeError('Potential id name not found in initial names provided.')\n",
    "        #map to the individual potentials\n",
    "        params_state_separated = self.Separate(params_state)\n",
    "        for potential_id_name in params_state_separated:\n",
    "            self.potentials[potential_id_name].SetParamsState(params_state_separated[potential_id_name])\n",
    "        return None\n",
    "    \n",
    "    #this is the actual potential\n",
    "    def Potential(self, r, params_val):\n",
    "        #compute potential\n",
    "        params_val_separated = self.Separate(params_val)\n",
    "        ur = 0.0    \n",
    "        for potential_id_name in self.potentials:\n",
    "            ur = ur + self.potentials[potential_id_name].Potential(r, params_val_separated[potential_id_name])\n",
    "        return ur"
   ]
  },
  {
   "cell_type": "code",
   "execution_count": 95,
   "metadata": {
    "collapsed": false
   },
   "outputs": [],
   "source": [
    "potential_combiner = PotentialCombiner([('ac', 'akima_cumulative'), ('dep', 'depletion')])"
   ]
  },
  {
   "cell_type": "code",
   "execution_count": 106,
   "metadata": {
    "collapsed": false
   },
   "outputs": [],
   "source": [
    "potential_combiner.SetParamsState({'ac__0.020': True, \n",
    "                                 'ac__0.010': True, \n",
    "                                 'ac__0.015': True, \n",
    "                                 'ac__0.005': True,\n",
    "                                   'dep__rho_p': True,\n",
    "                                   'dep__d_p': True, \n",
    "                                   'dep__d': False, \n",
    "                                   'dep__w': False})"
   ]
  },
  {
   "cell_type": "code",
   "execution_count": 107,
   "metadata": {
    "collapsed": false
   },
   "outputs": [
    {
     "data": {
      "text/plain": [
       "{'ac__0.005': {'potential_id_name': 'ac', 'potential_param': '0.005'},\n",
       " 'ac__0.010': {'potential_id_name': 'ac', 'potential_param': '0.010'},\n",
       " 'ac__0.015': {'potential_id_name': 'ac', 'potential_param': '0.015'},\n",
       " 'ac__0.020': {'potential_id_name': 'ac', 'potential_param': '0.020'},\n",
       " 'dep__d': {'potential_id_name': 'dep', 'potential_param': 'd'},\n",
       " 'dep__d_p': {'potential_id_name': 'dep', 'potential_param': 'd_p'},\n",
       " 'dep__rho_p': {'potential_id_name': 'dep', 'potential_param': 'rho_p'},\n",
       " 'dep__w': {'potential_id_name': 'dep', 'potential_param': 'w'}}"
      ]
     },
     "execution_count": 107,
     "metadata": {},
     "output_type": "execute_result"
    }
   ],
   "source": [
    "potential_combiner.param_map"
   ]
  },
  {
   "cell_type": "code",
   "execution_count": 108,
   "metadata": {
    "collapsed": false
   },
   "outputs": [
    {
     "data": {
      "text/plain": [
       "{'0.005': True, '0.010': True, '0.015': True, '0.020': True}"
      ]
     },
     "execution_count": 108,
     "metadata": {},
     "output_type": "execute_result"
    }
   ],
   "source": [
    "potential_combiner.potentials['ac'].params_state"
   ]
  },
  {
   "cell_type": "code",
   "execution_count": 115,
   "metadata": {
    "collapsed": false
   },
   "outputs": [
    {
     "data": {
      "text/plain": [
       "{'d': False, 'd_p': True, 'rho_p': True, 'w': False}"
      ]
     },
     "execution_count": 115,
     "metadata": {},
     "output_type": "execute_result"
    }
   ],
   "source": [
    "potential_combiner.potentials['dep'].params_state"
   ]
  },
  {
   "cell_type": "code",
   "execution_count": null,
   "metadata": {
    "collapsed": true
   },
   "outputs": [],
   "source": []
  },
  {
   "cell_type": "code",
   "execution_count": 110,
   "metadata": {
    "collapsed": true
   },
   "outputs": [],
   "source": [
    "from numpy import arange"
   ]
  },
  {
   "cell_type": "code",
   "execution_count": 111,
   "metadata": {
    "collapsed": true
   },
   "outputs": [],
   "source": [
    "rs = arange(0.0, 5.0, 0.0001)"
   ]
  },
  {
   "cell_type": "code",
   "execution_count": 112,
   "metadata": {
    "collapsed": false
   },
   "outputs": [
    {
     "name": "stdout",
     "output_type": "stream",
     "text": [
      "[ nan  nan  nan ...,  nan  nan  nan]\n"
     ]
    }
   ],
   "source": [
    "params_val = {'ac__0.020': 0.0, \n",
    "               'ac__0.010': 2.0, \n",
    "               'ac__0.015': 1.0, \n",
    "            'ac__0.005': 3.0,\n",
    "               'dep__rho_p': 1.3,\n",
    "                'dep__d_p': 0.5, \n",
    "                 'dep__d': 1.0, \n",
    "                  'dep__w': 25.0}\n",
    "\n",
    "urs = potential_combiner.Potential(rs, params_val)\n",
    "print urs"
   ]
  },
  {
   "cell_type": "code",
   "execution_count": 113,
   "metadata": {
    "collapsed": false
   },
   "outputs": [
    {
     "name": "stdout",
     "output_type": "stream",
     "text": [
      "[             nan              nan              nan              nan\n",
      "              nan              nan              nan              nan\n",
      "              nan              nan              nan              nan\n",
      "              nan              nan              nan              nan\n",
      "              nan              nan              nan              nan\n",
      "              nan              nan              nan              nan\n",
      "              nan              nan              nan              nan\n",
      "              nan              nan              nan              nan\n",
      "              nan              nan              nan              nan\n",
      "              nan              nan              nan              nan\n",
      "              nan              nan              nan              nan\n",
      "              nan              nan              nan              nan\n",
      "              nan              nan   6.00000000e+00   5.93020000e+00\n",
      "   5.86080000e+00   5.79180000e+00   5.72320000e+00   5.65500000e+00\n",
      "   5.58720000e+00   5.51980000e+00   5.45280000e+00   5.38620000e+00\n",
      "   5.32000000e+00   5.25420000e+00   5.18880000e+00   5.12380000e+00\n",
      "   5.05920000e+00   4.99500000e+00   4.93120000e+00   4.86780000e+00\n",
      "   4.80480000e+00   4.74220000e+00   4.68000000e+00   4.61820000e+00\n",
      "   4.55680000e+00   4.49580000e+00   4.43520000e+00   4.37500000e+00\n",
      "   4.31520000e+00   4.25580000e+00   4.19680000e+00   4.13820000e+00\n",
      "   4.08000000e+00   4.02220000e+00   3.96480000e+00   3.90780000e+00\n",
      "   3.85120000e+00   3.79500000e+00   3.73920000e+00   3.68380000e+00\n",
      "   3.62880000e+00   3.57420000e+00   3.52000000e+00   3.46620000e+00\n",
      "   3.41280000e+00   3.35980000e+00   3.30720000e+00   3.25500000e+00\n",
      "   3.20320000e+00   3.15180000e+00   3.10080000e+00   3.05020000e+00\n",
      "   3.00000000e+00   2.95020000e+00   2.90080000e+00   2.85180000e+00\n",
      "   2.80320000e+00   2.75500000e+00   2.70720000e+00   2.65980000e+00\n",
      "   2.61280000e+00   2.56620000e+00   2.52000000e+00   2.47420000e+00\n",
      "   2.42880000e+00   2.38380000e+00   2.33920000e+00   2.29500000e+00\n",
      "   2.25120000e+00   2.20780000e+00   2.16480000e+00   2.12220000e+00\n",
      "   2.08000000e+00   2.03820000e+00   1.99680000e+00   1.95580000e+00\n",
      "   1.91520000e+00   1.87500000e+00   1.83520000e+00   1.79580000e+00\n",
      "   1.75680000e+00   1.71820000e+00   1.68000000e+00   1.64220000e+00\n",
      "   1.60480000e+00   1.56780000e+00   1.53120000e+00   1.49500000e+00\n",
      "   1.45920000e+00   1.42380000e+00   1.38880000e+00   1.35420000e+00\n",
      "   1.32000000e+00   1.28620000e+00   1.25280000e+00   1.21980000e+00\n",
      "   1.18720000e+00   1.15500000e+00   1.12320000e+00   1.09180000e+00\n",
      "   1.06080000e+00   1.03020000e+00   1.00000000e+00   9.70200000e-01\n",
      "   9.40800000e-01   9.11800000e-01   8.83200000e-01   8.55000000e-01\n",
      "   8.27200000e-01   7.99800000e-01   7.72800000e-01   7.46200000e-01\n",
      "   7.20000000e-01   6.94200000e-01   6.68800000e-01   6.43800000e-01\n",
      "   6.19200000e-01   5.95000000e-01   5.71200000e-01   5.47800000e-01\n",
      "   5.24800000e-01   5.02200000e-01   4.80000000e-01   4.58200000e-01\n",
      "   4.36800000e-01   4.15800000e-01   3.95200000e-01   3.75000000e-01\n",
      "   3.55200000e-01   3.35800000e-01   3.16800000e-01   2.98200000e-01\n",
      "   2.80000000e-01   2.62200000e-01   2.44800000e-01   2.27800000e-01\n",
      "   2.11200000e-01   1.95000000e-01   1.79200000e-01   1.63800000e-01\n",
      "   1.48800000e-01   1.34200000e-01   1.20000000e-01   1.06200000e-01\n",
      "   9.28000000e-02   7.98000000e-02   6.72000000e-02   5.50000000e-02\n",
      "   4.32000000e-02   3.18000000e-02   2.08000000e-02   1.02000000e-02\n",
      "   4.88498131e-17              nan              nan              nan\n",
      "              nan              nan              nan              nan\n",
      "              nan              nan              nan              nan\n",
      "              nan              nan              nan              nan\n",
      "              nan              nan              nan              nan\n",
      "              nan              nan              nan              nan\n",
      "              nan              nan              nan              nan\n",
      "              nan              nan              nan              nan\n",
      "              nan              nan              nan              nan\n",
      "              nan              nan              nan              nan\n",
      "              nan              nan              nan              nan\n",
      "              nan              nan              nan              nan\n",
      "              nan              nan              nan              nan\n",
      "              nan              nan              nan              nan\n",
      "              nan              nan              nan              nan\n",
      "              nan              nan              nan              nan\n",
      "              nan              nan              nan              nan\n",
      "              nan              nan              nan              nan\n",
      "              nan              nan              nan              nan\n",
      "              nan              nan              nan              nan\n",
      "              nan              nan              nan              nan\n",
      "              nan              nan              nan              nan\n",
      "              nan              nan              nan              nan\n",
      "              nan              nan              nan              nan\n",
      "              nan              nan              nan              nan\n",
      "              nan              nan              nan              nan\n",
      "              nan              nan              nan              nan\n",
      "              nan              nan              nan              nan\n",
      "              nan              nan              nan              nan\n",
      "              nan              nan              nan              nan\n",
      "              nan              nan              nan              nan\n",
      "              nan              nan              nan              nan\n",
      "              nan              nan              nan              nan\n",
      "              nan              nan              nan              nan\n",
      "              nan              nan              nan              nan\n",
      "              nan              nan              nan              nan\n",
      "              nan              nan              nan              nan\n",
      "              nan              nan              nan              nan\n",
      "              nan              nan              nan              nan\n",
      "              nan              nan              nan              nan\n",
      "              nan              nan              nan              nan\n",
      "              nan              nan              nan              nan\n",
      "              nan              nan              nan              nan\n",
      "              nan              nan              nan              nan\n",
      "              nan              nan              nan              nan\n",
      "              nan              nan              nan              nan\n",
      "              nan              nan              nan              nan\n",
      "              nan              nan              nan              nan\n",
      "              nan              nan              nan              nan\n",
      "              nan              nan              nan              nan\n",
      "              nan              nan              nan              nan\n",
      "              nan              nan              nan              nan\n",
      "              nan              nan              nan              nan\n",
      "              nan              nan              nan              nan\n",
      "              nan              nan              nan              nan\n",
      "              nan              nan              nan              nan\n",
      "              nan              nan              nan              nan\n",
      "              nan              nan              nan              nan\n",
      "              nan              nan              nan              nan\n",
      "              nan              nan              nan              nan\n",
      "              nan              nan              nan              nan\n",
      "              nan              nan              nan              nan\n",
      "              nan              nan              nan              nan\n",
      "              nan              nan              nan              nan\n",
      "              nan              nan              nan              nan\n",
      "              nan              nan              nan              nan\n",
      "              nan              nan              nan              nan\n",
      "              nan              nan              nan              nan\n",
      "              nan              nan              nan              nan\n",
      "              nan              nan              nan              nan\n",
      "              nan              nan              nan              nan\n",
      "              nan              nan              nan              nan\n",
      "              nan              nan              nan              nan\n",
      "              nan              nan              nan              nan\n",
      "              nan              nan              nan              nan]\n"
     ]
    }
   ],
   "source": [
    "print urs[:500]"
   ]
  },
  {
   "cell_type": "code",
   "execution_count": null,
   "metadata": {
    "collapsed": true
   },
   "outputs": [],
   "source": []
  },
  {
   "cell_type": "code",
   "execution_count": null,
   "metadata": {
    "collapsed": true
   },
   "outputs": [],
   "source": []
  },
  {
   "cell_type": "code",
   "execution_count": null,
   "metadata": {
    "collapsed": true
   },
   "outputs": [],
   "source": []
  },
  {
   "cell_type": "code",
   "execution_count": null,
   "metadata": {
    "collapsed": true
   },
   "outputs": [],
   "source": [
    "{'wca__d': {'potential_id_name': 'wca', 'param_name': 'd'}}"
   ]
  }
 ],
 "metadata": {
  "kernelspec": {
   "display_name": "Python 2",
   "language": "python",
   "name": "python2"
  },
  "language_info": {
   "codemirror_mode": {
    "name": "ipython",
    "version": 2
   },
   "file_extension": ".py",
   "mimetype": "text/x-python",
   "name": "python",
   "nbconvert_exporter": "python",
   "pygments_lexer": "ipython2",
   "version": "2.7.13"
  }
 },
 "nbformat": 4,
 "nbformat_minor": 2
}
